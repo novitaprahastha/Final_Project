{
 "cells": [
  {
   "cell_type": "code",
   "execution_count": 1,
   "metadata": {},
   "outputs": [],
   "source": [
    "import numpy as np \n",
    "import pandas as pd \n",
    "import matplotlib.pyplot as plt\n",
    "import seaborn as sb\n",
    "from sklearn.linear_model import LogisticRegression\n",
    "from sklearn.model_selection import train_test_split\n",
    "from sklearn.metrics import confusion_matrix\n",
    "from sklearn.metrics import plot_confusion_matrix\n",
    "from sklearn.metrics import accuracy_score\n",
    "from sklearn.metrics import recall_score\n",
    "from sklearn.metrics import precision_score\n",
    "from sklearn.metrics import balanced_accuracy_score\n",
    "from sklearn.metrics import f1_score\n",
    "from sklearn.metrics import precision_recall_fscore_support\n",
    "from sklearn.metrics import classification_report\n",
    "from sklearn.metrics import roc_curve, roc_auc_score, auc\n",
    "from sklearn.model_selection import train_test_split\n",
    "from sklearn.preprocessing import StandardScaler\n",
    "from sklearn import tree\n",
    "from sklearn.ensemble import RandomForestClassifier\n",
    "from sklearn.neighbors import KNeighborsClassifier\n",
    "from sklearn.neighbors import NearestNeighbors\n",
    "from sklearn.cluster import KMeans\n",
    "from sklearn import metrics\n",
    "from sklearn.model_selection import KFold\n",
    "from sklearn.model_selection import cross_val_score, KFold,LeavePOut\n",
    "from sklearn. model_selection import RandomizedSearchCV\n",
    "from sklearn. model_selection import GridSearchCV\n",
    "from sklearn.preprocessing import LabelEncoder\n",
    "import warnings\n",
    "warnings.filterwarnings(\"ignore\")\n",
    "from sklearn.feature_selection import SelectFromModel\n",
    "import joblib"
   ]
  },
  {
   "cell_type": "markdown",
   "metadata": {},
   "source": [
    "# 1. Load and Explore Data "
   ]
  },
  {
   "cell_type": "markdown",
   "metadata": {},
   "source": [
    "#### 1.1. Read dataset train and test using pandas read_csv method "
   ]
  },
  {
   "cell_type": "code",
   "execution_count": 2,
   "metadata": {},
   "outputs": [
    {
     "data": {
      "text/html": [
       "<div>\n",
       "<style scoped>\n",
       "    .dataframe tbody tr th:only-of-type {\n",
       "        vertical-align: middle;\n",
       "    }\n",
       "\n",
       "    .dataframe tbody tr th {\n",
       "        vertical-align: top;\n",
       "    }\n",
       "\n",
       "    .dataframe thead th {\n",
       "        text-align: right;\n",
       "    }\n",
       "</style>\n",
       "<table border=\"1\" class=\"dataframe\">\n",
       "  <thead>\n",
       "    <tr style=\"text-align: right;\">\n",
       "      <th></th>\n",
       "      <th>Loan_ID</th>\n",
       "      <th>Gender</th>\n",
       "      <th>Married</th>\n",
       "      <th>Dependents</th>\n",
       "      <th>Education</th>\n",
       "      <th>Self_Employed</th>\n",
       "      <th>ApplicantIncome</th>\n",
       "      <th>CoapplicantIncome</th>\n",
       "      <th>LoanAmount</th>\n",
       "      <th>Loan_Amount_Term</th>\n",
       "      <th>Credit_History</th>\n",
       "      <th>Property_Area</th>\n",
       "      <th>Loan_Status</th>\n",
       "    </tr>\n",
       "  </thead>\n",
       "  <tbody>\n",
       "    <tr>\n",
       "      <th>0</th>\n",
       "      <td>LP001002</td>\n",
       "      <td>Male</td>\n",
       "      <td>No</td>\n",
       "      <td>0</td>\n",
       "      <td>Graduate</td>\n",
       "      <td>No</td>\n",
       "      <td>5849</td>\n",
       "      <td>0.0</td>\n",
       "      <td>NaN</td>\n",
       "      <td>360.0</td>\n",
       "      <td>1.0</td>\n",
       "      <td>Urban</td>\n",
       "      <td>Y</td>\n",
       "    </tr>\n",
       "    <tr>\n",
       "      <th>1</th>\n",
       "      <td>LP001003</td>\n",
       "      <td>Male</td>\n",
       "      <td>Yes</td>\n",
       "      <td>1</td>\n",
       "      <td>Graduate</td>\n",
       "      <td>No</td>\n",
       "      <td>4583</td>\n",
       "      <td>1508.0</td>\n",
       "      <td>128.0</td>\n",
       "      <td>360.0</td>\n",
       "      <td>1.0</td>\n",
       "      <td>Rural</td>\n",
       "      <td>N</td>\n",
       "    </tr>\n",
       "    <tr>\n",
       "      <th>2</th>\n",
       "      <td>LP001005</td>\n",
       "      <td>Male</td>\n",
       "      <td>Yes</td>\n",
       "      <td>0</td>\n",
       "      <td>Graduate</td>\n",
       "      <td>Yes</td>\n",
       "      <td>3000</td>\n",
       "      <td>0.0</td>\n",
       "      <td>66.0</td>\n",
       "      <td>360.0</td>\n",
       "      <td>1.0</td>\n",
       "      <td>Urban</td>\n",
       "      <td>Y</td>\n",
       "    </tr>\n",
       "    <tr>\n",
       "      <th>3</th>\n",
       "      <td>LP001006</td>\n",
       "      <td>Male</td>\n",
       "      <td>Yes</td>\n",
       "      <td>0</td>\n",
       "      <td>Not Graduate</td>\n",
       "      <td>No</td>\n",
       "      <td>2583</td>\n",
       "      <td>2358.0</td>\n",
       "      <td>120.0</td>\n",
       "      <td>360.0</td>\n",
       "      <td>1.0</td>\n",
       "      <td>Urban</td>\n",
       "      <td>Y</td>\n",
       "    </tr>\n",
       "    <tr>\n",
       "      <th>4</th>\n",
       "      <td>LP001008</td>\n",
       "      <td>Male</td>\n",
       "      <td>No</td>\n",
       "      <td>0</td>\n",
       "      <td>Graduate</td>\n",
       "      <td>No</td>\n",
       "      <td>6000</td>\n",
       "      <td>0.0</td>\n",
       "      <td>141.0</td>\n",
       "      <td>360.0</td>\n",
       "      <td>1.0</td>\n",
       "      <td>Urban</td>\n",
       "      <td>Y</td>\n",
       "    </tr>\n",
       "  </tbody>\n",
       "</table>\n",
       "</div>"
      ],
      "text/plain": [
       "    Loan_ID Gender Married Dependents     Education Self_Employed  \\\n",
       "0  LP001002   Male      No          0      Graduate            No   \n",
       "1  LP001003   Male     Yes          1      Graduate            No   \n",
       "2  LP001005   Male     Yes          0      Graduate           Yes   \n",
       "3  LP001006   Male     Yes          0  Not Graduate            No   \n",
       "4  LP001008   Male      No          0      Graduate            No   \n",
       "\n",
       "   ApplicantIncome  CoapplicantIncome  LoanAmount  Loan_Amount_Term  \\\n",
       "0             5849                0.0         NaN             360.0   \n",
       "1             4583             1508.0       128.0             360.0   \n",
       "2             3000                0.0        66.0             360.0   \n",
       "3             2583             2358.0       120.0             360.0   \n",
       "4             6000                0.0       141.0             360.0   \n",
       "\n",
       "   Credit_History Property_Area Loan_Status  \n",
       "0             1.0         Urban           Y  \n",
       "1             1.0         Rural           N  \n",
       "2             1.0         Urban           Y  \n",
       "3             1.0         Urban           Y  \n",
       "4             1.0         Urban           Y  "
      ]
     },
     "execution_count": 2,
     "metadata": {},
     "output_type": "execute_result"
    }
   ],
   "source": [
    "data = pd.read_csv('train-file.csv')\n",
    "\n",
    "data.head()"
   ]
  },
  {
   "cell_type": "markdown",
   "metadata": {},
   "source": [
    "#### 1.2. Check the features in our data and look at their data types"
   ]
  },
  {
   "cell_type": "code",
   "execution_count": 3,
   "metadata": {},
   "outputs": [
    {
     "name": "stdout",
     "output_type": "stream",
     "text": [
      "Index(['Loan_ID', 'Gender', 'Married', 'Dependents', 'Education',\n",
      "       'Self_Employed', 'ApplicantIncome', 'CoapplicantIncome', 'LoanAmount',\n",
      "       'Loan_Amount_Term', 'Credit_History', 'Property_Area', 'Loan_Status'],\n",
      "      dtype='object')\n"
     ]
    }
   ],
   "source": [
    "print(data.columns)"
   ]
  },
  {
   "cell_type": "markdown",
   "metadata": {},
   "source": [
    "__There are 12 independent variables and 1 target variable, i.e. Loan_Status in the dataset and print data types for each variable__"
   ]
  },
  {
   "cell_type": "code",
   "execution_count": 4,
   "metadata": {},
   "outputs": [
    {
     "data": {
      "text/plain": [
       "Loan_ID               object\n",
       "Gender                object\n",
       "Married               object\n",
       "Dependents            object\n",
       "Education             object\n",
       "Self_Employed         object\n",
       "ApplicantIncome        int64\n",
       "CoapplicantIncome    float64\n",
       "LoanAmount           float64\n",
       "Loan_Amount_Term     float64\n",
       "Credit_History       float64\n",
       "Property_Area         object\n",
       "Loan_Status           object\n",
       "dtype: object"
      ]
     },
     "execution_count": 4,
     "metadata": {},
     "output_type": "execute_result"
    }
   ],
   "source": [
    "data.dtypes"
   ]
  },
  {
   "cell_type": "markdown",
   "metadata": {},
   "source": [
    "__Let’s look at the shape of the dataset. There are 614 rows and 13 columns in this dataset__"
   ]
  },
  {
   "cell_type": "code",
   "execution_count": 5,
   "metadata": {},
   "outputs": [
    {
     "name": "stdout",
     "output_type": "stream",
     "text": [
      "(614, 13)\n"
     ]
    }
   ],
   "source": [
    "print(data.shape)"
   ]
  },
  {
   "cell_type": "code",
   "execution_count": 6,
   "metadata": {},
   "outputs": [
    {
     "data": {
      "text/plain": [
       "Loan_ID               0\n",
       "Gender               13\n",
       "Married               3\n",
       "Dependents           15\n",
       "Education             0\n",
       "Self_Employed        32\n",
       "ApplicantIncome       0\n",
       "CoapplicantIncome     0\n",
       "LoanAmount           22\n",
       "Loan_Amount_Term     14\n",
       "Credit_History       50\n",
       "Property_Area         0\n",
       "Loan_Status           0\n",
       "dtype: int64"
      ]
     },
     "execution_count": 6,
     "metadata": {},
     "output_type": "execute_result"
    }
   ],
   "source": [
    "data.isnull().sum()"
   ]
  },
  {
   "cell_type": "markdown",
   "metadata": {},
   "source": [
    "### 1.3. Explanation of Variable"
   ]
  },
  {
   "cell_type": "markdown",
   "metadata": {},
   "source": [
    "1. __Loan_ID__\n",
    "    - Unique Load_ID\n",
    "    \n",
    "2. __Gender__\n",
    "    - Male/Female \n",
    "\n",
    "3. __Married__\n",
    "    - Applicant Married (Y/N)\n",
    "\n",
    "4. __Dependents__\n",
    "    - Number of Dependents\n",
    "\n",
    "5. __Education__ \n",
    "    - Applicant Education (Graduate/Non Graduate)\n",
    "\n",
    "6. __Self_Employed__\n",
    "    - Self Employed (Y/N)\n",
    "\n",
    "7. __ApplicantIncome__\n",
    "    - Applicant Income\n",
    "\n",
    "8. __CoApplicantIncome__\n",
    "    - CoApplicant Income\n",
    "\n",
    "9. __LoanAmount__ \n",
    "    - Loan Amount in thousand \n",
    "\n",
    "10. __LoanAmountTerm__\n",
    "    - Term of loan in months\n",
    "    \n",
    "11. __Credit_History__\n",
    "    - Credit history meat guidelines\n",
    "\n",
    "12. __Property_Area__\n",
    "    - Urban/Semiurban/Rural\n",
    "\n",
    "__Target__: \n",
    "\n",
    "__Loan_Status__\n",
    "    - Loan Approved (Y/N)"
   ]
  },
  {
   "cell_type": "markdown",
   "metadata": {},
   "source": [
    "# 2. Exploratory Data Analysis"
   ]
  },
  {
   "cell_type": "markdown",
   "metadata": {},
   "source": [
    "### 2.1. Handling Null "
   ]
  },
  {
   "cell_type": "markdown",
   "metadata": {},
   "source": [
    "- For numerical variables: imputation __using mean or median__\n",
    "- For categorical variables: imputation __using mode__"
   ]
  },
  {
   "cell_type": "markdown",
   "metadata": {},
   "source": [
    "- __Handling Null for data Train__"
   ]
  },
  {
   "cell_type": "code",
   "execution_count": 7,
   "metadata": {},
   "outputs": [],
   "source": [
    "#Categorical Features \n",
    "data['Gender'].fillna(data['Gender'].mode()[0], inplace=True)\n",
    "data['Married'].fillna(data['Married'].mode()[0], inplace=True)\n",
    "data['Dependents'].fillna(data['Dependents'].mode()[0], inplace=True)\n",
    "data['Self_Employed'].fillna(data['Self_Employed'].mode()[0], inplace=True)\n",
    "data['Credit_History'].fillna(data['Credit_History'].mode()[0], inplace=True)"
   ]
  },
  {
   "cell_type": "code",
   "execution_count": 8,
   "metadata": {},
   "outputs": [
    {
     "data": {
      "text/plain": [
       "360.0    512\n",
       "180.0     44\n",
       "480.0     15\n",
       "300.0     13\n",
       "84.0       4\n",
       "240.0      4\n",
       "120.0      3\n",
       "36.0       2\n",
       "60.0       2\n",
       "12.0       1\n",
       "Name: Loan_Amount_Term, dtype: int64"
      ]
     },
     "execution_count": 8,
     "metadata": {},
     "output_type": "execute_result"
    }
   ],
   "source": [
    "# Numerical Features (Loan_Amount_Term)\n",
    "\n",
    "data['Loan_Amount_Term'].value_counts()"
   ]
  },
  {
   "cell_type": "markdown",
   "metadata": {},
   "source": [
    "It can be seen that in loan amount term variable, the value of 360 is repeating the most. So, I will replace the missing values in this variable using the mode of this variable. "
   ]
  },
  {
   "cell_type": "code",
   "execution_count": 9,
   "metadata": {},
   "outputs": [],
   "source": [
    "data['Loan_Amount_Term'].fillna(data['Loan_Amount_Term'].mode()[0], inplace=True)"
   ]
  },
  {
   "cell_type": "code",
   "execution_count": 10,
   "metadata": {},
   "outputs": [
    {
     "data": {
      "text/plain": [
       "120.0    20\n",
       "110.0    17\n",
       "100.0    15\n",
       "187.0    12\n",
       "160.0    12\n",
       "         ..\n",
       "570.0     1\n",
       "300.0     1\n",
       "376.0     1\n",
       "117.0     1\n",
       "311.0     1\n",
       "Name: LoanAmount, Length: 203, dtype: int64"
      ]
     },
     "execution_count": 10,
     "metadata": {},
     "output_type": "execute_result"
    }
   ],
   "source": [
    "# Numerical Features (Loan_Amount)\n",
    "data['LoanAmount'].value_counts()"
   ]
  },
  {
   "cell_type": "code",
   "execution_count": 11,
   "metadata": {},
   "outputs": [],
   "source": [
    "data['LoanAmount'].fillna(data['LoanAmount'].median(), inplace=True)"
   ]
  },
  {
   "cell_type": "code",
   "execution_count": 12,
   "metadata": {},
   "outputs": [
    {
     "data": {
      "text/plain": [
       "Loan_ID              0\n",
       "Gender               0\n",
       "Married              0\n",
       "Dependents           0\n",
       "Education            0\n",
       "Self_Employed        0\n",
       "ApplicantIncome      0\n",
       "CoapplicantIncome    0\n",
       "LoanAmount           0\n",
       "Loan_Amount_Term     0\n",
       "Credit_History       0\n",
       "Property_Area        0\n",
       "Loan_Status          0\n",
       "dtype: int64"
      ]
     },
     "execution_count": 12,
     "metadata": {},
     "output_type": "execute_result"
    }
   ],
   "source": [
    "### checking null \n",
    "\n",
    "data.isnull().sum()"
   ]
  },
  {
   "cell_type": "markdown",
   "metadata": {},
   "source": [
    "<!-- - Handling Null data test -->"
   ]
  },
  {
   "cell_type": "markdown",
   "metadata": {},
   "source": [
    "### 2.2 Visualization\n",
    "\n",
    "- __Univariate Analysis__"
   ]
  },
  {
   "cell_type": "markdown",
   "metadata": {},
   "source": [
    "__Target Variable__"
   ]
  },
  {
   "cell_type": "code",
   "execution_count": 13,
   "metadata": {},
   "outputs": [
    {
     "data": {
      "text/plain": [
       "Y    422\n",
       "N    192\n",
       "Name: Loan_Status, dtype: int64"
      ]
     },
     "execution_count": 13,
     "metadata": {},
     "output_type": "execute_result"
    }
   ],
   "source": [
    "data['Loan_Status'].value_counts()"
   ]
  },
  {
   "cell_type": "code",
   "execution_count": 14,
   "metadata": {},
   "outputs": [
    {
     "data": {
      "text/plain": [
       "<matplotlib.axes._subplots.AxesSubplot at 0x122b24040>"
      ]
     },
     "execution_count": 14,
     "metadata": {},
     "output_type": "execute_result"
    },
    {
     "data": {
      "image/png": "[encoded data removed]",
      "text/plain": [
       "<Figure size 432x288 with 1 Axes>"
      ]
     },
     "metadata": {
      "needs_background": "light"
     },
     "output_type": "display_data"
    }
   ],
   "source": [
    "data['Loan_Status'].value_counts().plot.bar()"
   ]
  },
  {
   "cell_type": "markdown",
   "metadata": {},
   "source": [
    "__Visualize Independent variable (Categorical Feature)__"
   ]
  },
  {
   "cell_type": "code",
   "execution_count": 15,
   "metadata": {},
   "outputs": [
    {
     "data": {
      "image/png": "[encoded data removed]",
      "text/plain": [
       "<Figure size 720x576 with 4 Axes>"
      ]
     },
     "metadata": {
      "needs_background": "light"
     },
     "output_type": "display_data"
    }
   ],
   "source": [
    "plt.subplot(221)\n",
    "data['Gender'].value_counts().plot.bar(figsize=(10,8), title='Gender')\n",
    "\n",
    "plt.subplot(222)\n",
    "data['Married'].value_counts().plot.bar(title='Married')\n",
    "\n",
    "plt.subplot(223)\n",
    "data['Self_Employed'].value_counts().plot.bar(title='Self-Employed')\n",
    "\n",
    "plt.subplot(224)\n",
    "data['Credit_History'].value_counts().plot.bar(title='Credit History')\n",
    "\n",
    "plt.show()"
   ]
  },
  {
   "cell_type": "markdown",
   "metadata": {},
   "source": [
    "It can be seen from the above bar plots that:\n",
    "\n",
    "- 80% applicants in the dataset are male.\n",
    "- Around 65% of the applicants in the dataset are married.\n",
    "- Around 15% applicants in the dataset are self employed.\n",
    "- Around 85% applicants have repaid their debts."
   ]
  },
  {
   "cell_type": "markdown",
   "metadata": {},
   "source": [
    "__Visualize independent variable (Ordinal Feature)__"
   ]
  },
  {
   "cell_type": "code",
   "execution_count": 16,
   "metadata": {},
   "outputs": [
    {
     "data": {
      "text/plain": [
       "<matplotlib.axes._subplots.AxesSubplot at 0x1250af880>"
      ]
     },
     "execution_count": 16,
     "metadata": {},
     "output_type": "execute_result"
    },
    {
     "data": {
      "image/png": "[encoded data removed]",
      "text/plain": [
       "<Figure size 1080x360 with 3 Axes>"
      ]
     },
     "metadata": {
      "needs_background": "light"
     },
     "output_type": "display_data"
    }
   ],
   "source": [
    "plt.subplot(131)\n",
    "data['Dependents'].value_counts().plot.bar(figsize=(15,5), title='Dependents')\n",
    "\n",
    "plt.subplot(132)\n",
    "data['Education'].value_counts().plot.bar(title='Education')\n",
    "\n",
    "plt.subplot(133)\n",
    "data['Property_Area'].value_counts().plot.bar(title='Property_Area')"
   ]
  },
  {
   "cell_type": "markdown",
   "metadata": {},
   "source": [
    "It can be seen from the above bar plots that:\n",
    "\n",
    "- Most of the applicants don’t have any dependents.\n",
    "- Around 80% of the applicants are Graduate.\n",
    "- Most of the applicants are from Semiurban area."
   ]
  },
  {
   "cell_type": "markdown",
   "metadata": {},
   "source": [
    "__Visualize independent variable (Numeric Features)__"
   ]
  },
  {
   "cell_type": "code",
   "execution_count": 17,
   "metadata": {},
   "outputs": [
    {
     "data": {
      "image/png": "[encoded data removed]",
      "text/plain": [
       "<Figure size 1080x360 with 2 Axes>"
      ]
     },
     "metadata": {
      "needs_background": "light"
     },
     "output_type": "display_data"
    }
   ],
   "source": [
    "plt.subplot(121)\n",
    "data['ApplicantIncome'].plot.box(figsize=(15,5), title='ApplicantIncome')\n",
    "\n",
    "plt.subplot(122)\n",
    "data['CoapplicantIncome'].plot.box(title='CoapplicantIncome')\n",
    "\n",
    "\n",
    "plt.show()"
   ]
  },
  {
   "cell_type": "markdown",
   "metadata": {},
   "source": [
    "ApplicantIncome and Education "
   ]
  },
  {
   "cell_type": "code",
   "execution_count": 18,
   "metadata": {},
   "outputs": [
    {
     "data": {
      "text/plain": [
       "Text(0.5, 0.98, '')"
      ]
     },
     "execution_count": 18,
     "metadata": {},
     "output_type": "execute_result"
    },
    {
     "data": {
      "image/png": "[encoded data removed]",
      "text/plain": [
       "<Figure size 432x288 with 1 Axes>"
      ]
     },
     "metadata": {
      "needs_background": "light"
     },
     "output_type": "display_data"
    }
   ],
   "source": [
    "data.boxplot(column='ApplicantIncome', by = 'Education') \n",
    "plt.suptitle(\"\")"
   ]
  },
  {
   "cell_type": "markdown",
   "metadata": {},
   "source": [
    "- __Bivariate Analysis__"
   ]
  },
  {
   "cell_type": "markdown",
   "metadata": {},
   "source": [
    "__Categorical Independent Variable vs Target Variable__"
   ]
  },
  {
   "cell_type": "code",
   "execution_count": 19,
   "metadata": {},
   "outputs": [
    {
     "data": {
      "text/plain": [
       "<matplotlib.axes._subplots.AxesSubplot at 0x124e77070>"
      ]
     },
     "execution_count": 19,
     "metadata": {},
     "output_type": "execute_result"
    },
    {
     "data": {
      "image/png": "[encoded data removed]",
      "text/plain": [
       "<Figure size 288x288 with 1 Axes>"
      ]
     },
     "metadata": {
      "needs_background": "light"
     },
     "output_type": "display_data"
    }
   ],
   "source": [
    "gender = pd.crosstab(data['Gender'],data['Loan_Status'])\n",
    "gender\n",
    "gender.div(gender.sum(1).astype(float), axis=0).plot(kind=\"bar\", stacked=True, figsize=(4,4))"
   ]
  },
  {
   "cell_type": "markdown",
   "metadata": {},
   "source": [
    "It can be seen that the proportion of male and female applicants is more or less same for both approved and unapproved loans."
   ]
  },
  {
   "cell_type": "code",
   "execution_count": 20,
   "metadata": {},
   "outputs": [],
   "source": [
    "married = pd.crosstab(data['Married'], data['Loan_Status'])\n",
    "dependents = pd.crosstab(data['Dependents'], data['Loan_Status'])\n",
    "education = pd.crosstab(data['Education'], data['Loan_Status'])\n",
    "self_employed = pd.crosstab(data['Self_Employed'], data['Loan_Status'])"
   ]
  },
  {
   "cell_type": "code",
   "execution_count": 21,
   "metadata": {},
   "outputs": [
    {
     "data": {
      "image/png": "[encoded data removed]",
      "text/plain": [
       "<Figure size 288x288 with 1 Axes>"
      ]
     },
     "metadata": {
      "needs_background": "light"
     },
     "output_type": "display_data"
    },
    {
     "data": {
      "image/png": "[encoded data removed]",
      "text/plain": [
       "<Figure size 288x288 with 1 Axes>"
      ]
     },
     "metadata": {
      "needs_background": "light"
     },
     "output_type": "display_data"
    },
    {
     "data": {
      "image/png": "[encoded data removed]",
      "text/plain": [
       "<Figure size 288x288 with 1 Axes>"
      ]
     },
     "metadata": {
      "needs_background": "light"
     },
     "output_type": "display_data"
    },
    {
     "data": {
      "image/png": "[encoded data removed]",
      "text/plain": [
       "<Figure size 288x288 with 1 Axes>"
      ]
     },
     "metadata": {
      "needs_background": "light"
     },
     "output_type": "display_data"
    }
   ],
   "source": [
    "married.div(married.sum(1).astype(float), \n",
    "            axis=0).plot(kind=\"bar\",stacked=True, figsize=(4,4)) \n",
    "plt.show()\n",
    "\n",
    "dependents.div(dependents.sum(1).astype(float), \n",
    "            axis=0).plot(kind=\"bar\",stacked=True, figsize=(4,4)) \n",
    "plt.show()\n",
    "\n",
    "\n",
    "education.div(education.sum(1).astype(float), \n",
    "            axis=0).plot(kind=\"bar\",stacked=True, figsize=(4,4)) \n",
    "plt.show()\n",
    "\n",
    "\n",
    "self_employed.div(self_employed.sum(1).astype(float), \n",
    "            axis=0).plot(kind=\"bar\",stacked=True, figsize=(4,4)) \n",
    "plt.show()"
   ]
  },
  {
   "cell_type": "markdown",
   "metadata": {},
   "source": [
    "- Proportion of married applicants is higher for the approved loans.\n",
    "- Distribution of applicants with 1 or 3+ dependents is similar across both the categories of Loan_Status.\n",
    "- There is nothing significant we can infer from Self_Employed vs Loan_Status plot."
   ]
  },
  {
   "cell_type": "code",
   "execution_count": 22,
   "metadata": {},
   "outputs": [],
   "source": [
    "credit_history = pd.crosstab(data['Credit_History'], data['Loan_Status'])\n",
    "property_area = pd.crosstab(data['Property_Area'], data['Loan_Status'])\n",
    "\n",
    "# print(credit_history)\n",
    "# print(property_area)"
   ]
  },
  {
   "cell_type": "code",
   "execution_count": 23,
   "metadata": {},
   "outputs": [
    {
     "data": {
      "image/png": "[encoded data removed]",
      "text/plain": [
       "<Figure size 288x288 with 1 Axes>"
      ]
     },
     "metadata": {
      "needs_background": "light"
     },
     "output_type": "display_data"
    },
    {
     "data": {
      "image/png": "[encoded data removed]",
      "text/plain": [
       "<Figure size 288x288 with 1 Axes>"
      ]
     },
     "metadata": {
      "needs_background": "light"
     },
     "output_type": "display_data"
    }
   ],
   "source": [
    "credit_history.div(credit_history.sum(1).astype(float), \n",
    "            axis=0).plot(kind=\"bar\",stacked=True, figsize=(4,4)) \n",
    "plt.show()\n",
    "\n",
    "property_area.div(property_area.sum(1).astype(float), \n",
    "            axis=0).plot(kind=\"bar\",stacked=True, figsize=(4,4)) \n",
    "plt.show()"
   ]
  },
  {
   "cell_type": "markdown",
   "metadata": {},
   "source": [
    "- It seems people with credit history as 1 are more likely to get their loans approved.\n",
    "- Proportion of loans getting approved in semiurban area is higher as compared to that in rural or urban areas."
   ]
  },
  {
   "cell_type": "markdown",
   "metadata": {},
   "source": [
    "__Numerical Independent Variable vs Target Variable__\n",
    "\n",
    "- ApplicantIncome"
   ]
  },
  {
   "cell_type": "code",
   "execution_count": 24,
   "metadata": {},
   "outputs": [
    {
     "data": {
      "text/plain": [
       "<matplotlib.axes._subplots.AxesSubplot at 0x1258bd4c0>"
      ]
     },
     "execution_count": 24,
     "metadata": {},
     "output_type": "execute_result"
    },
    {
     "data": {
      "image/png": "[encoded data removed]",
      "text/plain": [
       "<Figure size 432x288 with 1 Axes>"
      ]
     },
     "metadata": {
      "needs_background": "light"
     },
     "output_type": "display_data"
    }
   ],
   "source": [
    "# Find the mean income of people for which the loan has been approved \n",
    "# vs the mean income of people for which the loan has not been approved.\n",
    "data.groupby('Loan_Status')['ApplicantIncome'].mean().plot.bar()\n"
   ]
  },
  {
   "cell_type": "code",
   "execution_count": 25,
   "metadata": {},
   "outputs": [],
   "source": [
    "# pd.qcut(data['ApplicantIncome'], q=4)"
   ]
  },
  {
   "cell_type": "markdown",
   "metadata": {},
   "source": [
    "the y-axis represents the mean applicant income. We don't see any change in the mean income. So, I will make the bins for the applicant income variable. "
   ]
  },
  {
   "cell_type": "code",
   "execution_count": 26,
   "metadata": {},
   "outputs": [],
   "source": [
    "bins = [0,2500,4000,6000,81000]\n",
    "group = ['Low', 'Average', 'High', 'Very High']"
   ]
  },
  {
   "cell_type": "code",
   "execution_count": 27,
   "metadata": {},
   "outputs": [
    {
     "data": {
      "text/html": [
       "<div>\n",
       "<style scoped>\n",
       "    .dataframe tbody tr th:only-of-type {\n",
       "        vertical-align: middle;\n",
       "    }\n",
       "\n",
       "    .dataframe tbody tr th {\n",
       "        vertical-align: top;\n",
       "    }\n",
       "\n",
       "    .dataframe thead th {\n",
       "        text-align: right;\n",
       "    }\n",
       "</style>\n",
       "<table border=\"1\" class=\"dataframe\">\n",
       "  <thead>\n",
       "    <tr style=\"text-align: right;\">\n",
       "      <th>Loan_Status</th>\n",
       "      <th>N</th>\n",
       "      <th>Y</th>\n",
       "    </tr>\n",
       "    <tr>\n",
       "      <th>income_bin</th>\n",
       "      <th></th>\n",
       "      <th></th>\n",
       "    </tr>\n",
       "  </thead>\n",
       "  <tbody>\n",
       "    <tr>\n",
       "      <th>Low</th>\n",
       "      <td>34</td>\n",
       "      <td>74</td>\n",
       "    </tr>\n",
       "    <tr>\n",
       "      <th>Average</th>\n",
       "      <td>67</td>\n",
       "      <td>159</td>\n",
       "    </tr>\n",
       "    <tr>\n",
       "      <th>High</th>\n",
       "      <td>45</td>\n",
       "      <td>98</td>\n",
       "    </tr>\n",
       "    <tr>\n",
       "      <th>Very High</th>\n",
       "      <td>46</td>\n",
       "      <td>91</td>\n",
       "    </tr>\n",
       "  </tbody>\n",
       "</table>\n",
       "</div>"
      ],
      "text/plain": [
       "Loan_Status   N    Y\n",
       "income_bin          \n",
       "Low          34   74\n",
       "Average      67  159\n",
       "High         45   98\n",
       "Very High    46   91"
      ]
     },
     "execution_count": 27,
     "metadata": {},
     "output_type": "execute_result"
    }
   ],
   "source": [
    "data['income_bin'] = pd.cut(data['ApplicantIncome'],bins, labels=group)\n",
    "income_bin = pd.crosstab(data['income_bin'], data['Loan_Status'])\n",
    "income_bin"
   ]
  },
  {
   "cell_type": "code",
   "execution_count": 28,
   "metadata": {},
   "outputs": [
    {
     "data": {
      "text/plain": [
       "Text(0, 0.5, 'Percentage')"
      ]
     },
     "execution_count": 28,
     "metadata": {},
     "output_type": "execute_result"
    },
    {
     "data": {
      "image/png": "[encoded data removed]",
      "text/plain": [
       "<Figure size 432x288 with 1 Axes>"
      ]
     },
     "metadata": {
      "needs_background": "light"
     },
     "output_type": "display_data"
    }
   ],
   "source": [
    "income_bin.div(income_bin.sum(1).astype(float), axis=0).plot(kind=\"bar\",stacked=True)\n",
    "plt.xlabel('ApplicantIncome')\n",
    "plt.ylabel('Percentage')"
   ]
  },
  {
   "cell_type": "markdown",
   "metadata": {},
   "source": [
    "It can be inferred that applicant income does not affect the chances of loan approval. "
   ]
  },
  {
   "cell_type": "markdown",
   "metadata": {},
   "source": [
    "- CoApplicant Income"
   ]
  },
  {
   "cell_type": "code",
   "execution_count": 29,
   "metadata": {},
   "outputs": [],
   "source": [
    "# pd.qcut(data['CoapplicantIncome'], q=4, duplicates='drop')"
   ]
  },
  {
   "cell_type": "code",
   "execution_count": 30,
   "metadata": {},
   "outputs": [],
   "source": [
    "binsco = [0, 1000, 2000, 3000, 42000]\n",
    "groupco = ['Low', 'Average', 'High', 'Very High']"
   ]
  },
  {
   "cell_type": "code",
   "execution_count": 31,
   "metadata": {},
   "outputs": [
    {
     "data": {
      "text/html": [
       "<div>\n",
       "<style scoped>\n",
       "    .dataframe tbody tr th:only-of-type {\n",
       "        vertical-align: middle;\n",
       "    }\n",
       "\n",
       "    .dataframe tbody tr th {\n",
       "        vertical-align: top;\n",
       "    }\n",
       "\n",
       "    .dataframe thead th {\n",
       "        text-align: right;\n",
       "    }\n",
       "</style>\n",
       "<table border=\"1\" class=\"dataframe\">\n",
       "  <thead>\n",
       "    <tr style=\"text-align: right;\">\n",
       "      <th>Loan_Status</th>\n",
       "      <th>N</th>\n",
       "      <th>Y</th>\n",
       "    </tr>\n",
       "    <tr>\n",
       "      <th>coappincome_bin</th>\n",
       "      <th></th>\n",
       "      <th></th>\n",
       "    </tr>\n",
       "  </thead>\n",
       "  <tbody>\n",
       "    <tr>\n",
       "      <th>Low</th>\n",
       "      <td>3</td>\n",
       "      <td>19</td>\n",
       "    </tr>\n",
       "    <tr>\n",
       "      <th>Average</th>\n",
       "      <td>35</td>\n",
       "      <td>87</td>\n",
       "    </tr>\n",
       "    <tr>\n",
       "      <th>High</th>\n",
       "      <td>26</td>\n",
       "      <td>74</td>\n",
       "    </tr>\n",
       "    <tr>\n",
       "      <th>Very High</th>\n",
       "      <td>32</td>\n",
       "      <td>65</td>\n",
       "    </tr>\n",
       "  </tbody>\n",
       "</table>\n",
       "</div>"
      ],
      "text/plain": [
       "Loan_Status       N   Y\n",
       "coappincome_bin        \n",
       "Low               3  19\n",
       "Average          35  87\n",
       "High             26  74\n",
       "Very High        32  65"
      ]
     },
     "execution_count": 31,
     "metadata": {},
     "output_type": "execute_result"
    }
   ],
   "source": [
    "data['coappincome_bin'] = pd.cut(data['CoapplicantIncome'],binsco, labels=groupco)\n",
    "coappincome_bin = pd.crosstab(data['coappincome_bin'], data['Loan_Status'])\n",
    "coappincome_bin"
   ]
  },
  {
   "cell_type": "code",
   "execution_count": 32,
   "metadata": {},
   "outputs": [
    {
     "data": {
      "text/plain": [
       "Text(0, 0.5, 'Percentage')"
      ]
     },
     "execution_count": 32,
     "metadata": {},
     "output_type": "execute_result"
    },
    {
     "data": {
      "image/png": "[encoded data removed]",
      "text/plain": [
       "<Figure size 432x288 with 1 Axes>"
      ]
     },
     "metadata": {
      "needs_background": "light"
     },
     "output_type": "display_data"
    }
   ],
   "source": [
    "coappincome_bin.div(coappincome_bin.sum(1).astype(float), axis=0).plot(kind=\"bar\",stacked=True)\n",
    "plt.xlabel('CoapplicantIncome')\n",
    "plt.ylabel('Percentage')"
   ]
  },
  {
   "cell_type": "markdown",
   "metadata": {},
   "source": [
    "It shows that if coapplicant's income is less, the chances of loan approval are high. But this does not look right. The possible reason behind this may be that most of the applicants don't have any coapplicant so the coapplicant income for such applicant is 0 and hence the loan approval is not dependent on it. \n",
    "\n",
    "so we can make a new variable in which we will combine the applicant's and coapplicant's income to visualize the combind effect of income on loan approval. \n",
    "\n",
    "###gimana cara ngitung applicant yang punya coapplicant income == 0???"
   ]
  },
  {
   "cell_type": "code",
   "execution_count": 33,
   "metadata": {},
   "outputs": [],
   "source": [
    "### Combine applicantincome and coapplicant income \n",
    "\n",
    "data['Total_Income'] = data['ApplicantIncome'] + data['CoapplicantIncome']\n",
    "# data"
   ]
  },
  {
   "cell_type": "code",
   "execution_count": 34,
   "metadata": {},
   "outputs": [],
   "source": [
    "binstotal = [0,2500,4000,6000,81000]\n",
    "grouptotal = ['Low', 'Average', 'High', 'Very High']"
   ]
  },
  {
   "cell_type": "code",
   "execution_count": 35,
   "metadata": {},
   "outputs": [],
   "source": [
    "data['Total_Income_bin'] = pd.cut(data['Total_Income'], binstotal,labels=grouptotal)\n",
    "Total_Income_bin =pd.crosstab(data['Total_Income_bin'],data['Loan_Status'])\n",
    "# data"
   ]
  },
  {
   "cell_type": "code",
   "execution_count": 36,
   "metadata": {},
   "outputs": [
    {
     "data": {
      "text/plain": [
       "Text(0, 0.5, 'Percentage')"
      ]
     },
     "execution_count": 36,
     "metadata": {},
     "output_type": "execute_result"
    },
    {
     "data": {
      "image/png": "[encoded data removed]",
      "text/plain": [
       "<Figure size 432x288 with 1 Axes>"
      ]
     },
     "metadata": {
      "needs_background": "light"
     },
     "output_type": "display_data"
    }
   ],
   "source": [
    "Total_Income_bin.div(Total_Income_bin.sum(1).astype(float), axis=0).plot(kind=\"bar\",stacked=True)\n",
    "plt.xlabel('Total_Income')\n",
    "plt.ylabel('Percentage')"
   ]
  },
  {
   "cell_type": "markdown",
   "metadata": {},
   "source": [
    "Proportion of loans getting approved for applicant having low Total_Income is verry less as compared to that applicant with average, high, and very high income. "
   ]
  },
  {
   "cell_type": "markdown",
   "metadata": {},
   "source": [
    "- Loan Amount "
   ]
  },
  {
   "cell_type": "code",
   "execution_count": 37,
   "metadata": {},
   "outputs": [],
   "source": [
    "# pd.qcut(data['LoanAmount'], q=4)"
   ]
  },
  {
   "cell_type": "code",
   "execution_count": 38,
   "metadata": {},
   "outputs": [],
   "source": [
    "binsloan = [0, 100, 200, 700]\n",
    "grouploan = ['Low', 'Average', 'High']"
   ]
  },
  {
   "cell_type": "code",
   "execution_count": 39,
   "metadata": {},
   "outputs": [
    {
     "data": {
      "text/plain": [
       "Text(0, 0.5, 'Percentage')"
      ]
     },
     "execution_count": 39,
     "metadata": {},
     "output_type": "execute_result"
    },
    {
     "data": {
      "image/png": "[encoded data removed]",
      "text/plain": [
       "<Figure size 432x288 with 1 Axes>"
      ]
     },
     "metadata": {
      "needs_background": "light"
     },
     "output_type": "display_data"
    }
   ],
   "source": [
    "data['loanamount_bin'] = pd.cut(data['LoanAmount'], binsloan,labels=grouploan) \n",
    "loanamount_bin = pd.crosstab(data['loanamount_bin'], data['Loan_Status'])\n",
    "loanamount_bin.div(loanamount_bin.sum(1).astype(float), axis=0).plot(kind=\"bar\",stacked=True)\n",
    "plt.xlabel('LoanAmount')\n",
    "plt.ylabel('Percentage')"
   ]
  },
  {
   "cell_type": "markdown",
   "metadata": {},
   "source": [
    "It can bee seen that the proportion of approved loans is higher for low and average loan amount. "
   ]
  },
  {
   "cell_type": "code",
   "execution_count": 40,
   "metadata": {},
   "outputs": [],
   "source": [
    "###drop bins\n",
    "###change 3+ in dependents variable => 3 \n",
    "###convert target variable's categories into 0 and 1 so that i can find its correlation with numerical variables. \n",
    "###replace N = 0, Y = 1 "
   ]
  },
  {
   "cell_type": "code",
   "execution_count": 41,
   "metadata": {},
   "outputs": [],
   "source": [
    "# Drop bins \n",
    "data = data.drop(['income_bin', 'coappincome_bin', 'loanamount_bin', 'Total_Income_bin', 'ApplicantIncome', 'CoapplicantIncome'], axis=1)"
   ]
  },
  {
   "cell_type": "code",
   "execution_count": 42,
   "metadata": {},
   "outputs": [
    {
     "data": {
      "text/plain": [
       "Loan_ID              object\n",
       "Gender               object\n",
       "Married              object\n",
       "Dependents           object\n",
       "Education            object\n",
       "Self_Employed        object\n",
       "LoanAmount          float64\n",
       "Loan_Amount_Term    float64\n",
       "Credit_History      float64\n",
       "Property_Area        object\n",
       "Loan_Status          object\n",
       "Total_Income        float64\n",
       "dtype: object"
      ]
     },
     "execution_count": 42,
     "metadata": {},
     "output_type": "execute_result"
    }
   ],
   "source": [
    "# data[data['Total_Income']==data['ApplicantIncome']\n",
    "### change 3+ => \n",
    "\n",
    "data['Dependents'].replace('3+', 3, inplace=True)\n",
    "\n",
    "# data.Dependents = data.Dependents.astype(\"int\")\n",
    "\n",
    "data.dtypes"
   ]
  },
  {
   "cell_type": "code",
   "execution_count": 43,
   "metadata": {},
   "outputs": [],
   "source": [
    "# print(data.shape)\n",
    "# print(data.columns)"
   ]
  },
  {
   "cell_type": "markdown",
   "metadata": {},
   "source": [
    "# 3. Data Preprocessing"
   ]
  },
  {
   "cell_type": "markdown",
   "metadata": {},
   "source": [
    "### __3.1. Label Encoder__"
   ]
  },
  {
   "cell_type": "markdown",
   "metadata": {},
   "source": [
    "- Data Train"
   ]
  },
  {
   "cell_type": "code",
   "execution_count": 44,
   "metadata": {},
   "outputs": [
    {
     "data": {
      "text/html": [
       "<div>\n",
       "<style scoped>\n",
       "    .dataframe tbody tr th:only-of-type {\n",
       "        vertical-align: middle;\n",
       "    }\n",
       "\n",
       "    .dataframe tbody tr th {\n",
       "        vertical-align: top;\n",
       "    }\n",
       "\n",
       "    .dataframe thead th {\n",
       "        text-align: right;\n",
       "    }\n",
       "</style>\n",
       "<table border=\"1\" class=\"dataframe\">\n",
       "  <thead>\n",
       "    <tr style=\"text-align: right;\">\n",
       "      <th></th>\n",
       "      <th>Loan_ID</th>\n",
       "      <th>Gender</th>\n",
       "      <th>Married</th>\n",
       "      <th>Dependents</th>\n",
       "      <th>Education</th>\n",
       "      <th>Self_Employed</th>\n",
       "      <th>LoanAmount</th>\n",
       "      <th>Loan_Amount_Term</th>\n",
       "      <th>Credit_History</th>\n",
       "      <th>Property_Area</th>\n",
       "      <th>Loan_Status</th>\n",
       "      <th>Total_Income</th>\n",
       "    </tr>\n",
       "  </thead>\n",
       "  <tbody>\n",
       "    <tr>\n",
       "      <th>0</th>\n",
       "      <td>LP001002</td>\n",
       "      <td>1</td>\n",
       "      <td>0</td>\n",
       "      <td>0</td>\n",
       "      <td>0</td>\n",
       "      <td>0</td>\n",
       "      <td>128.0</td>\n",
       "      <td>360.0</td>\n",
       "      <td>1.0</td>\n",
       "      <td>2</td>\n",
       "      <td>1</td>\n",
       "      <td>5849.0</td>\n",
       "    </tr>\n",
       "    <tr>\n",
       "      <th>1</th>\n",
       "      <td>LP001003</td>\n",
       "      <td>1</td>\n",
       "      <td>1</td>\n",
       "      <td>1</td>\n",
       "      <td>0</td>\n",
       "      <td>0</td>\n",
       "      <td>128.0</td>\n",
       "      <td>360.0</td>\n",
       "      <td>1.0</td>\n",
       "      <td>0</td>\n",
       "      <td>0</td>\n",
       "      <td>6091.0</td>\n",
       "    </tr>\n",
       "    <tr>\n",
       "      <th>2</th>\n",
       "      <td>LP001005</td>\n",
       "      <td>1</td>\n",
       "      <td>1</td>\n",
       "      <td>0</td>\n",
       "      <td>0</td>\n",
       "      <td>1</td>\n",
       "      <td>66.0</td>\n",
       "      <td>360.0</td>\n",
       "      <td>1.0</td>\n",
       "      <td>2</td>\n",
       "      <td>1</td>\n",
       "      <td>3000.0</td>\n",
       "    </tr>\n",
       "    <tr>\n",
       "      <th>3</th>\n",
       "      <td>LP001006</td>\n",
       "      <td>1</td>\n",
       "      <td>1</td>\n",
       "      <td>0</td>\n",
       "      <td>1</td>\n",
       "      <td>0</td>\n",
       "      <td>120.0</td>\n",
       "      <td>360.0</td>\n",
       "      <td>1.0</td>\n",
       "      <td>2</td>\n",
       "      <td>1</td>\n",
       "      <td>4941.0</td>\n",
       "    </tr>\n",
       "    <tr>\n",
       "      <th>4</th>\n",
       "      <td>LP001008</td>\n",
       "      <td>1</td>\n",
       "      <td>0</td>\n",
       "      <td>0</td>\n",
       "      <td>0</td>\n",
       "      <td>0</td>\n",
       "      <td>141.0</td>\n",
       "      <td>360.0</td>\n",
       "      <td>1.0</td>\n",
       "      <td>2</td>\n",
       "      <td>1</td>\n",
       "      <td>6000.0</td>\n",
       "    </tr>\n",
       "  </tbody>\n",
       "</table>\n",
       "</div>"
      ],
      "text/plain": [
       "    Loan_ID  Gender  Married Dependents  Education  Self_Employed  LoanAmount  \\\n",
       "0  LP001002       1        0          0          0              0       128.0   \n",
       "1  LP001003       1        1          1          0              0       128.0   \n",
       "2  LP001005       1        1          0          0              1        66.0   \n",
       "3  LP001006       1        1          0          1              0       120.0   \n",
       "4  LP001008       1        0          0          0              0       141.0   \n",
       "\n",
       "   Loan_Amount_Term  Credit_History  Property_Area  Loan_Status  Total_Income  \n",
       "0             360.0             1.0              2            1        5849.0  \n",
       "1             360.0             1.0              0            0        6091.0  \n",
       "2             360.0             1.0              2            1        3000.0  \n",
       "3             360.0             1.0              2            1        4941.0  \n",
       "4             360.0             1.0              2            1        6000.0  "
      ]
     },
     "execution_count": 44,
     "metadata": {},
     "output_type": "execute_result"
    }
   ],
   "source": [
    "var=['Gender','Married','Education','Self_Employed','Property_Area','Loan_Status']\n",
    "labelencoder = LabelEncoder()\n",
    "for i in var:\n",
    "    data[i]= data[i].astype('str')\n",
    "\n",
    "for i in var:\n",
    "    data[i] = labelencoder.fit_transform(data[i])\n",
    "# df.dtypes  \n",
    "# le = LabelEncoder()\n",
    "# data['Dependents']=le.fit_transform(data['Dependents'])\n",
    "\n",
    "data.head()"
   ]
  },
  {
   "cell_type": "code",
   "execution_count": 45,
   "metadata": {},
   "outputs": [],
   "source": [
    "# data.info()"
   ]
  },
  {
   "cell_type": "markdown",
   "metadata": {},
   "source": [
    "### __3.2. Correlation__"
   ]
  },
  {
   "cell_type": "code",
   "execution_count": 46,
   "metadata": {},
   "outputs": [
    {
     "data": {
      "image/png": "[encoded data removed]",
      "text/plain": [
       "<Figure size 720x576 with 2 Axes>"
      ]
     },
     "metadata": {
      "needs_background": "light"
     },
     "output_type": "display_data"
    }
   ],
   "source": [
    "plt.figure(figsize=(10,8))\n",
    "sb.heatmap(data.corr(),annot=True,cmap=\"RdYlGn\")\n",
    "plt.show()"
   ]
  },
  {
   "cell_type": "markdown",
   "metadata": {},
   "source": [
    "The most correlated variables are (ApplicantIncome - LoanAmount) and (Loan_Status - Credit_History)"
   ]
  },
  {
   "cell_type": "markdown",
   "metadata": {},
   "source": [
    "### __4. Standardization__\n",
    "\n",
    "- finding outlier"
   ]
  },
  {
   "cell_type": "markdown",
   "metadata": {},
   "source": [
    "- __Data Train__"
   ]
  },
  {
   "cell_type": "code",
   "execution_count": 47,
   "metadata": {},
   "outputs": [
    {
     "data": {
      "text/html": [
       "<div>\n",
       "<style scoped>\n",
       "    .dataframe tbody tr th:only-of-type {\n",
       "        vertical-align: middle;\n",
       "    }\n",
       "\n",
       "    .dataframe tbody tr th {\n",
       "        vertical-align: top;\n",
       "    }\n",
       "\n",
       "    .dataframe thead th {\n",
       "        text-align: right;\n",
       "    }\n",
       "</style>\n",
       "<table border=\"1\" class=\"dataframe\">\n",
       "  <thead>\n",
       "    <tr style=\"text-align: right;\">\n",
       "      <th></th>\n",
       "      <th>Gender</th>\n",
       "      <th>Married</th>\n",
       "      <th>Dependents</th>\n",
       "      <th>Education</th>\n",
       "      <th>Self_Employed</th>\n",
       "      <th>Credit_History</th>\n",
       "      <th>Property_Area</th>\n",
       "      <th>Total_Income</th>\n",
       "      <th>LoanAmount</th>\n",
       "      <th>Loan_Amount_Term</th>\n",
       "    </tr>\n",
       "  </thead>\n",
       "  <tbody>\n",
       "    <tr>\n",
       "      <th>0</th>\n",
       "      <td>1</td>\n",
       "      <td>0</td>\n",
       "      <td>0</td>\n",
       "      <td>0</td>\n",
       "      <td>0</td>\n",
       "      <td>1.0</td>\n",
       "      <td>2</td>\n",
       "      <td>5849.0</td>\n",
       "      <td>128.0</td>\n",
       "      <td>360.0</td>\n",
       "    </tr>\n",
       "    <tr>\n",
       "      <th>1</th>\n",
       "      <td>1</td>\n",
       "      <td>1</td>\n",
       "      <td>1</td>\n",
       "      <td>0</td>\n",
       "      <td>0</td>\n",
       "      <td>1.0</td>\n",
       "      <td>0</td>\n",
       "      <td>6091.0</td>\n",
       "      <td>128.0</td>\n",
       "      <td>360.0</td>\n",
       "    </tr>\n",
       "    <tr>\n",
       "      <th>2</th>\n",
       "      <td>1</td>\n",
       "      <td>1</td>\n",
       "      <td>0</td>\n",
       "      <td>0</td>\n",
       "      <td>1</td>\n",
       "      <td>1.0</td>\n",
       "      <td>2</td>\n",
       "      <td>3000.0</td>\n",
       "      <td>66.0</td>\n",
       "      <td>360.0</td>\n",
       "    </tr>\n",
       "    <tr>\n",
       "      <th>3</th>\n",
       "      <td>1</td>\n",
       "      <td>1</td>\n",
       "      <td>0</td>\n",
       "      <td>1</td>\n",
       "      <td>0</td>\n",
       "      <td>1.0</td>\n",
       "      <td>2</td>\n",
       "      <td>4941.0</td>\n",
       "      <td>120.0</td>\n",
       "      <td>360.0</td>\n",
       "    </tr>\n",
       "    <tr>\n",
       "      <th>4</th>\n",
       "      <td>1</td>\n",
       "      <td>0</td>\n",
       "      <td>0</td>\n",
       "      <td>0</td>\n",
       "      <td>0</td>\n",
       "      <td>1.0</td>\n",
       "      <td>2</td>\n",
       "      <td>6000.0</td>\n",
       "      <td>141.0</td>\n",
       "      <td>360.0</td>\n",
       "    </tr>\n",
       "    <tr>\n",
       "      <th>...</th>\n",
       "      <td>...</td>\n",
       "      <td>...</td>\n",
       "      <td>...</td>\n",
       "      <td>...</td>\n",
       "      <td>...</td>\n",
       "      <td>...</td>\n",
       "      <td>...</td>\n",
       "      <td>...</td>\n",
       "      <td>...</td>\n",
       "      <td>...</td>\n",
       "    </tr>\n",
       "    <tr>\n",
       "      <th>609</th>\n",
       "      <td>0</td>\n",
       "      <td>0</td>\n",
       "      <td>0</td>\n",
       "      <td>0</td>\n",
       "      <td>0</td>\n",
       "      <td>1.0</td>\n",
       "      <td>0</td>\n",
       "      <td>2900.0</td>\n",
       "      <td>71.0</td>\n",
       "      <td>360.0</td>\n",
       "    </tr>\n",
       "    <tr>\n",
       "      <th>610</th>\n",
       "      <td>1</td>\n",
       "      <td>1</td>\n",
       "      <td>3</td>\n",
       "      <td>0</td>\n",
       "      <td>0</td>\n",
       "      <td>1.0</td>\n",
       "      <td>0</td>\n",
       "      <td>4106.0</td>\n",
       "      <td>40.0</td>\n",
       "      <td>NaN</td>\n",
       "    </tr>\n",
       "    <tr>\n",
       "      <th>611</th>\n",
       "      <td>1</td>\n",
       "      <td>1</td>\n",
       "      <td>1</td>\n",
       "      <td>0</td>\n",
       "      <td>0</td>\n",
       "      <td>1.0</td>\n",
       "      <td>2</td>\n",
       "      <td>8312.0</td>\n",
       "      <td>253.0</td>\n",
       "      <td>360.0</td>\n",
       "    </tr>\n",
       "    <tr>\n",
       "      <th>612</th>\n",
       "      <td>1</td>\n",
       "      <td>1</td>\n",
       "      <td>2</td>\n",
       "      <td>0</td>\n",
       "      <td>0</td>\n",
       "      <td>1.0</td>\n",
       "      <td>2</td>\n",
       "      <td>7583.0</td>\n",
       "      <td>187.0</td>\n",
       "      <td>360.0</td>\n",
       "    </tr>\n",
       "    <tr>\n",
       "      <th>613</th>\n",
       "      <td>0</td>\n",
       "      <td>0</td>\n",
       "      <td>0</td>\n",
       "      <td>0</td>\n",
       "      <td>1</td>\n",
       "      <td>0.0</td>\n",
       "      <td>1</td>\n",
       "      <td>4583.0</td>\n",
       "      <td>133.0</td>\n",
       "      <td>360.0</td>\n",
       "    </tr>\n",
       "  </tbody>\n",
       "</table>\n",
       "<p>614 rows × 10 columns</p>\n",
       "</div>"
      ],
      "text/plain": [
       "     Gender  Married Dependents  Education  Self_Employed  Credit_History  \\\n",
       "0         1        0          0          0              0             1.0   \n",
       "1         1        1          1          0              0             1.0   \n",
       "2         1        1          0          0              1             1.0   \n",
       "3         1        1          0          1              0             1.0   \n",
       "4         1        0          0          0              0             1.0   \n",
       "..      ...      ...        ...        ...            ...             ...   \n",
       "609       0        0          0          0              0             1.0   \n",
       "610       1        1          3          0              0             1.0   \n",
       "611       1        1          1          0              0             1.0   \n",
       "612       1        1          2          0              0             1.0   \n",
       "613       0        0          0          0              1             0.0   \n",
       "\n",
       "     Property_Area  Total_Income  LoanAmount  Loan_Amount_Term  \n",
       "0                2        5849.0       128.0             360.0  \n",
       "1                0        6091.0       128.0             360.0  \n",
       "2                2        3000.0        66.0             360.0  \n",
       "3                2        4941.0       120.0             360.0  \n",
       "4                2        6000.0       141.0             360.0  \n",
       "..             ...           ...         ...               ...  \n",
       "609              0        2900.0        71.0             360.0  \n",
       "610              0        4106.0        40.0               NaN  \n",
       "611              2        8312.0       253.0             360.0  \n",
       "612              2        7583.0       187.0             360.0  \n",
       "613              1        4583.0       133.0             360.0  \n",
       "\n",
       "[614 rows x 10 columns]"
      ]
     },
     "execution_count": 47,
     "metadata": {},
     "output_type": "execute_result"
    }
   ],
   "source": [
    "stdscaler = StandardScaler()\n",
    "datastd = data[['Total_Income','LoanAmount','Loan_Amount_Term']]\n",
    "dataencod = data[['Gender','Married','Dependents','Education','Self_Employed','Credit_History','Property_Area']]\n",
    "\n",
    "std = stdscaler.fit_transform(datastd)\n",
    "std= pd.DataFrame(std, columns= ['Total_Income','LoanAmount','Loan_Amount_Term'])\n",
    "\n",
    "#CARI OUTLIER (total income=13, loanamount=19, loan amount term=56) persen data = 14% \n",
    "\n",
    "std[(std < -2.5) | (std > 2.5)] = np.NaN\n",
    "std.isnull().sum()\n",
    "\n",
    "# INVERSE KE NILAI SEMULA\n",
    "invstd= stdscaler.inverse_transform(std)\n",
    "invstd= pd.DataFrame(invstd, columns=['Total_Income','LoanAmount','Loan_Amount_Term'])\n",
    "# invstd['CoapplicantIncome']= round(invstd['CoapplicantIncome'])\n",
    "invstd\n",
    "\n",
    "#CONCAT \n",
    "feature= pd.concat([dataencod,invstd],axis=1 ,ignore_index=False, sort=False)\n",
    "feature"
   ]
  },
  {
   "cell_type": "code",
   "execution_count": 48,
   "metadata": {},
   "outputs": [
    {
     "data": {
      "text/plain": [
       "Gender              0\n",
       "Married             0\n",
       "Dependents          0\n",
       "Education           0\n",
       "Self_Employed       0\n",
       "Credit_History      0\n",
       "Property_Area       0\n",
       "Total_Income        0\n",
       "LoanAmount          0\n",
       "Loan_Amount_Term    0\n",
       "Loan_Status         0\n",
       "dtype: int64"
      ]
     },
     "execution_count": 48,
     "metadata": {},
     "output_type": "execute_result"
    }
   ],
   "source": [
    "feature.isnull().sum()\n",
    "\n",
    "# JOIN TARGET COLUMN \n",
    "feature['Loan_Status'] = data['Loan_Status']\n",
    "feature.head()\n",
    "\n",
    "\n",
    "#DROP OUTLIER \n",
    "feature= feature.dropna()\n",
    "feature.isnull().sum()"
   ]
  },
  {
   "cell_type": "code",
   "execution_count": 49,
   "metadata": {},
   "outputs": [
    {
     "data": {
      "text/plain": [
       "Gender                int64\n",
       "Married               int64\n",
       "Dependents            int64\n",
       "Education             int64\n",
       "Self_Employed         int64\n",
       "Credit_History      float64\n",
       "Property_Area         int64\n",
       "Total_Income        float64\n",
       "LoanAmount          float64\n",
       "Loan_Amount_Term    float64\n",
       "Loan_Status           int64\n",
       "dtype: object"
      ]
     },
     "execution_count": 49,
     "metadata": {},
     "output_type": "execute_result"
    }
   ],
   "source": [
    "feature['Dependents']=feature['Dependents'].astype('int64') \n",
    "feature.dtypes"
   ]
  },
  {
   "cell_type": "code",
   "execution_count": 50,
   "metadata": {},
   "outputs": [
    {
     "data": {
      "text/plain": [
       "Gender              0\n",
       "Married             0\n",
       "Dependents          0\n",
       "Education           0\n",
       "Self_Employed       0\n",
       "Credit_History      0\n",
       "Property_Area       0\n",
       "Total_Income        0\n",
       "LoanAmount          0\n",
       "Loan_Amount_Term    0\n",
       "Loan_Status         0\n",
       "dtype: int64"
      ]
     },
     "execution_count": 50,
     "metadata": {},
     "output_type": "execute_result"
    }
   ],
   "source": [
    "feature.isnull().sum()"
   ]
  },
  {
   "cell_type": "code",
   "execution_count": 51,
   "metadata": {},
   "outputs": [
    {
     "data": {
      "text/html": [
       "<div>\n",
       "<style scoped>\n",
       "    .dataframe tbody tr th:only-of-type {\n",
       "        vertical-align: middle;\n",
       "    }\n",
       "\n",
       "    .dataframe tbody tr th {\n",
       "        vertical-align: top;\n",
       "    }\n",
       "\n",
       "    .dataframe thead th {\n",
       "        text-align: right;\n",
       "    }\n",
       "</style>\n",
       "<table border=\"1\" class=\"dataframe\">\n",
       "  <thead>\n",
       "    <tr style=\"text-align: right;\">\n",
       "      <th></th>\n",
       "      <th>Gender</th>\n",
       "      <th>Married</th>\n",
       "      <th>Dependents</th>\n",
       "      <th>Education</th>\n",
       "      <th>Self_Employed</th>\n",
       "      <th>Credit_History</th>\n",
       "      <th>Property_Area</th>\n",
       "      <th>Total_Income</th>\n",
       "      <th>LoanAmount</th>\n",
       "      <th>Loan_Amount_Term</th>\n",
       "      <th>Loan_Status</th>\n",
       "    </tr>\n",
       "  </thead>\n",
       "  <tbody>\n",
       "    <tr>\n",
       "      <th>0</th>\n",
       "      <td>1</td>\n",
       "      <td>0</td>\n",
       "      <td>0</td>\n",
       "      <td>0</td>\n",
       "      <td>0</td>\n",
       "      <td>1.0</td>\n",
       "      <td>2</td>\n",
       "      <td>5849.0</td>\n",
       "      <td>128.0</td>\n",
       "      <td>360.0</td>\n",
       "      <td>1</td>\n",
       "    </tr>\n",
       "    <tr>\n",
       "      <th>1</th>\n",
       "      <td>1</td>\n",
       "      <td>1</td>\n",
       "      <td>1</td>\n",
       "      <td>0</td>\n",
       "      <td>0</td>\n",
       "      <td>1.0</td>\n",
       "      <td>0</td>\n",
       "      <td>6091.0</td>\n",
       "      <td>128.0</td>\n",
       "      <td>360.0</td>\n",
       "      <td>0</td>\n",
       "    </tr>\n",
       "    <tr>\n",
       "      <th>2</th>\n",
       "      <td>1</td>\n",
       "      <td>1</td>\n",
       "      <td>0</td>\n",
       "      <td>0</td>\n",
       "      <td>1</td>\n",
       "      <td>1.0</td>\n",
       "      <td>2</td>\n",
       "      <td>3000.0</td>\n",
       "      <td>66.0</td>\n",
       "      <td>360.0</td>\n",
       "      <td>1</td>\n",
       "    </tr>\n",
       "    <tr>\n",
       "      <th>3</th>\n",
       "      <td>1</td>\n",
       "      <td>1</td>\n",
       "      <td>0</td>\n",
       "      <td>1</td>\n",
       "      <td>0</td>\n",
       "      <td>1.0</td>\n",
       "      <td>2</td>\n",
       "      <td>4941.0</td>\n",
       "      <td>120.0</td>\n",
       "      <td>360.0</td>\n",
       "      <td>1</td>\n",
       "    </tr>\n",
       "    <tr>\n",
       "      <th>4</th>\n",
       "      <td>1</td>\n",
       "      <td>0</td>\n",
       "      <td>0</td>\n",
       "      <td>0</td>\n",
       "      <td>0</td>\n",
       "      <td>1.0</td>\n",
       "      <td>2</td>\n",
       "      <td>6000.0</td>\n",
       "      <td>141.0</td>\n",
       "      <td>360.0</td>\n",
       "      <td>1</td>\n",
       "    </tr>\n",
       "    <tr>\n",
       "      <th>...</th>\n",
       "      <td>...</td>\n",
       "      <td>...</td>\n",
       "      <td>...</td>\n",
       "      <td>...</td>\n",
       "      <td>...</td>\n",
       "      <td>...</td>\n",
       "      <td>...</td>\n",
       "      <td>...</td>\n",
       "      <td>...</td>\n",
       "      <td>...</td>\n",
       "      <td>...</td>\n",
       "    </tr>\n",
       "    <tr>\n",
       "      <th>608</th>\n",
       "      <td>1</td>\n",
       "      <td>1</td>\n",
       "      <td>0</td>\n",
       "      <td>0</td>\n",
       "      <td>0</td>\n",
       "      <td>1.0</td>\n",
       "      <td>0</td>\n",
       "      <td>5182.0</td>\n",
       "      <td>108.0</td>\n",
       "      <td>360.0</td>\n",
       "      <td>1</td>\n",
       "    </tr>\n",
       "    <tr>\n",
       "      <th>609</th>\n",
       "      <td>0</td>\n",
       "      <td>0</td>\n",
       "      <td>0</td>\n",
       "      <td>0</td>\n",
       "      <td>0</td>\n",
       "      <td>1.0</td>\n",
       "      <td>0</td>\n",
       "      <td>2900.0</td>\n",
       "      <td>71.0</td>\n",
       "      <td>360.0</td>\n",
       "      <td>1</td>\n",
       "    </tr>\n",
       "    <tr>\n",
       "      <th>611</th>\n",
       "      <td>1</td>\n",
       "      <td>1</td>\n",
       "      <td>1</td>\n",
       "      <td>0</td>\n",
       "      <td>0</td>\n",
       "      <td>1.0</td>\n",
       "      <td>2</td>\n",
       "      <td>8312.0</td>\n",
       "      <td>253.0</td>\n",
       "      <td>360.0</td>\n",
       "      <td>1</td>\n",
       "    </tr>\n",
       "    <tr>\n",
       "      <th>612</th>\n",
       "      <td>1</td>\n",
       "      <td>1</td>\n",
       "      <td>2</td>\n",
       "      <td>0</td>\n",
       "      <td>0</td>\n",
       "      <td>1.0</td>\n",
       "      <td>2</td>\n",
       "      <td>7583.0</td>\n",
       "      <td>187.0</td>\n",
       "      <td>360.0</td>\n",
       "      <td>1</td>\n",
       "    </tr>\n",
       "    <tr>\n",
       "      <th>613</th>\n",
       "      <td>0</td>\n",
       "      <td>0</td>\n",
       "      <td>0</td>\n",
       "      <td>0</td>\n",
       "      <td>1</td>\n",
       "      <td>0.0</td>\n",
       "      <td>1</td>\n",
       "      <td>4583.0</td>\n",
       "      <td>133.0</td>\n",
       "      <td>360.0</td>\n",
       "      <td>0</td>\n",
       "    </tr>\n",
       "  </tbody>\n",
       "</table>\n",
       "<p>536 rows × 11 columns</p>\n",
       "</div>"
      ],
      "text/plain": [
       "     Gender  Married  Dependents  Education  Self_Employed  Credit_History  \\\n",
       "0         1        0           0          0              0             1.0   \n",
       "1         1        1           1          0              0             1.0   \n",
       "2         1        1           0          0              1             1.0   \n",
       "3         1        1           0          1              0             1.0   \n",
       "4         1        0           0          0              0             1.0   \n",
       "..      ...      ...         ...        ...            ...             ...   \n",
       "608       1        1           0          0              0             1.0   \n",
       "609       0        0           0          0              0             1.0   \n",
       "611       1        1           1          0              0             1.0   \n",
       "612       1        1           2          0              0             1.0   \n",
       "613       0        0           0          0              1             0.0   \n",
       "\n",
       "     Property_Area  Total_Income  LoanAmount  Loan_Amount_Term  Loan_Status  \n",
       "0                2        5849.0       128.0             360.0            1  \n",
       "1                0        6091.0       128.0             360.0            0  \n",
       "2                2        3000.0        66.0             360.0            1  \n",
       "3                2        4941.0       120.0             360.0            1  \n",
       "4                2        6000.0       141.0             360.0            1  \n",
       "..             ...           ...         ...               ...          ...  \n",
       "608              0        5182.0       108.0             360.0            1  \n",
       "609              0        2900.0        71.0             360.0            1  \n",
       "611              2        8312.0       253.0             360.0            1  \n",
       "612              2        7583.0       187.0             360.0            1  \n",
       "613              1        4583.0       133.0             360.0            0  \n",
       "\n",
       "[536 rows x 11 columns]"
      ]
     },
     "execution_count": 51,
     "metadata": {},
     "output_type": "execute_result"
    }
   ],
   "source": [
    "feature"
   ]
  },
  {
   "cell_type": "markdown",
   "metadata": {},
   "source": [
    "## __5. Splitting Dataset (Train and Test)__"
   ]
  },
  {
   "cell_type": "markdown",
   "metadata": {},
   "source": [
    "Divide our train dataset into two parts: __train and test__."
   ]
  },
  {
   "cell_type": "code",
   "execution_count": 52,
   "metadata": {},
   "outputs": [],
   "source": [
    "#Data Train \n",
    "\n",
    "x= feature.drop('Loan_Status', axis=1)\n",
    "y= feature['Loan_Status']\n",
    "\n",
    "#Splitting \n",
    "\n",
    "xtr, xval, ytr, yval = train_test_split(x,y, test_size=0.20,random_state=107)                    "
   ]
  },
  {
   "cell_type": "code",
   "execution_count": 53,
   "metadata": {},
   "outputs": [
    {
     "name": "stdout",
     "output_type": "stream",
     "text": [
      "428\n",
      "428\n",
      "108\n",
      "108\n"
     ]
    }
   ],
   "source": [
    "print(len(xtr))\n",
    "print(len(ytr))\n",
    "\n",
    "print(len(xval))\n",
    "print(len(yval))"
   ]
  },
  {
   "cell_type": "markdown",
   "metadata": {},
   "source": [
    "## __6. Model Building__"
   ]
  },
  {
   "cell_type": "markdown",
   "metadata": {},
   "source": [
    "### 1. Logistic Regression "
   ]
  },
  {
   "cell_type": "code",
   "execution_count": 54,
   "metadata": {},
   "outputs": [
    {
     "data": {
      "text/plain": [
       "0.8333333333333334"
      ]
     },
     "execution_count": 54,
     "metadata": {},
     "output_type": "execute_result"
    }
   ],
   "source": [
    "logreg = LogisticRegression()\n",
    "logreg.fit(xtr, ytr)\n",
    "logreg.score(xval, yval)"
   ]
  },
  {
   "cell_type": "markdown",
   "metadata": {},
   "source": [
    "### 2. Random Forest "
   ]
  },
  {
   "cell_type": "code",
   "execution_count": 55,
   "metadata": {},
   "outputs": [
    {
     "data": {
      "text/plain": [
       "0.8055555555555556"
      ]
     },
     "execution_count": 55,
     "metadata": {},
     "output_type": "execute_result"
    }
   ],
   "source": [
    "rfmodel = RandomForestClassifier(n_estimators=100)\n",
    "rfmodel.fit(xtr, ytr)\n",
    "rfmodel.score(xval, yval)"
   ]
  },
  {
   "cell_type": "markdown",
   "metadata": {},
   "source": [
    "### 3. K-Nearest Neighbors"
   ]
  },
  {
   "cell_type": "code",
   "execution_count": 56,
   "metadata": {},
   "outputs": [
    {
     "data": {
      "text/plain": [
       "0.6296296296296297"
      ]
     },
     "execution_count": 56,
     "metadata": {},
     "output_type": "execute_result"
    }
   ],
   "source": [
    "## nilai K\n",
    "k = round(xtr.shape[0] ** .5)\n",
    "k\n",
    "knnmodel = KNeighborsClassifier(n_neighbors=k)\n",
    "knnmodel.fit(xtr, ytr)\n",
    "knnmodel.score(xval, yval)"
   ]
  },
  {
   "cell_type": "code",
   "execution_count": 57,
   "metadata": {},
   "outputs": [
    {
     "name": "stdout",
     "output_type": "stream",
     "text": [
      "Score after Hyper-Parameter Tuning :\n",
      "\n",
      "Logistic Regression Score = 0.8333333333333334 \n",
      "Random Forest Score = 0.8055555555555556 \n",
      "KNN Score = 0.6296296296296297 \n"
     ]
    }
   ],
   "source": [
    "print('Score after Hyper-Parameter Tuning :\\n')\n",
    "print('Logistic Regression Score = {} \\nRandom Forest Score = {} \\nKNN Score = {} '\n",
    "      .format(logreg.score(xval,yval), rfmodel.score(xval,yval), knnmodel.score(xval,yval)))"
   ]
  },
  {
   "cell_type": "markdown",
   "metadata": {},
   "source": [
    "## __7. Hyper-Parameter Tunning__"
   ]
  },
  {
   "cell_type": "markdown",
   "metadata": {},
   "source": [
    "### 7.1. Logistic Regression"
   ]
  },
  {
   "cell_type": "code",
   "execution_count": 58,
   "metadata": {},
   "outputs": [
    {
     "data": {
      "text/plain": [
       "{'penalty': ['l1', 'l2', 'elasticnet', 'none'],\n",
       " 'solver': ['newton-cg', 'lbfgs', 'liblinear', 'sag', 'saga'],\n",
       " 'max_iter': [1, 10, 100, 1000, 10000],\n",
       " 'C': [1.0],\n",
       " 'multi_class': ['auto', 'ovr', 'multinomial']}"
      ]
     },
     "execution_count": 58,
     "metadata": {},
     "output_type": "execute_result"
    }
   ],
   "source": [
    "penalty = ['l1','l2','elasticnet','none']\n",
    "solver = ['newton-cg', 'lbfgs', 'liblinear', 'sag', 'saga']\n",
    "max_iter = [1, 10, 100, 1000, 10000]\n",
    "c = [1.0]\n",
    "multi_class = ['auto', 'ovr', 'multinomial']\n",
    "\n",
    "param = {\n",
    "    'penalty':penalty, 'solver':solver, 'max_iter':max_iter, 'C':c,'multi_class':multi_class\n",
    "}\n",
    "param"
   ]
  },
  {
   "cell_type": "code",
   "execution_count": 59,
   "metadata": {},
   "outputs": [],
   "source": [
    "# model = LogisticRegression()\n",
    "# modelgs = GridSearchCV(model, param, cv = 3 )\n",
    "# modelgs.fit(xtr,ytr)\n",
    "# modelgs.best_params_"
   ]
  },
  {
   "cell_type": "code",
   "execution_count": 60,
   "metadata": {},
   "outputs": [
    {
     "data": {
      "text/plain": [
       "0.8333333333333334"
      ]
     },
     "execution_count": 60,
     "metadata": {},
     "output_type": "execute_result"
    }
   ],
   "source": [
    "modellogreg = LogisticRegression(\n",
    "    C=1.0, solver='liblinear', penalty='l1', max_iter=10, multi_class='auto'\n",
    ")\n",
    "modellogreg.fit(xtr,ytr)\n",
    "modellogreg.score(xval, yval)"
   ]
  },
  {
   "cell_type": "markdown",
   "metadata": {},
   "source": [
    "### 7.2. Random Forest"
   ]
  },
  {
   "cell_type": "code",
   "execution_count": 61,
   "metadata": {},
   "outputs": [],
   "source": [
    "# model = RandomForestClassifier()\n",
    "# #hyper parameters set\n",
    "# n_estimators = [int(x) for x in np.linspace(start=100, stop=500, num=4)]\n",
    "# max_features = ['auto', 'sqrt']\n",
    "# max_depth = [int(x) for x in np.linspace(10,80,num=5)]\n",
    "# max_depth.append(None)\n",
    "# min_samples_split = [2,5,10]\n",
    "# min_samples_leaf = [1,2,4]\n",
    "# bootstrap = [True, False]\n",
    "\n",
    "# # print(n_estimators)\n",
    "# # print(max_depth)\n",
    "# param = {'n_estimators':n_estimators,\n",
    "#          'max_features':max_features,\n",
    "#          'max_depth':max_depth,\n",
    "#          'min_samples_leaf':min_samples_leaf,\n",
    "#          'min_samples_split':min_samples_split,\n",
    "#          'bootstrap':bootstrap\n",
    "#         }\n",
    "\n",
    "# modelgs = GridSearchCV(model, param, cv = 3 )\n",
    "# modelgs.fit(xtr,ytr)\n",
    "# modelgs.best_params_"
   ]
  },
  {
   "cell_type": "code",
   "execution_count": 62,
   "metadata": {},
   "outputs": [
    {
     "data": {
      "text/plain": [
       "0.8333333333333334"
      ]
     },
     "execution_count": 62,
     "metadata": {},
     "output_type": "execute_result"
    }
   ],
   "source": [
    "modelrf = RandomForestClassifier(\n",
    "    bootstrap=True, max_depth=80,max_features='auto',min_samples_leaf=4,min_samples_split=10,n_estimators=100\n",
    ")\n",
    "modelrf.fit(xtr,ytr)\n",
    "modelrf.score(xval, yval)"
   ]
  },
  {
   "cell_type": "markdown",
   "metadata": {},
   "source": [
    "### 7.3. K-Nearest Neighbors"
   ]
  },
  {
   "cell_type": "code",
   "execution_count": 63,
   "metadata": {},
   "outputs": [],
   "source": [
    "# model = KNeighborsClassifier()\n",
    "# #hyper parameters set\n",
    "# leaf_size = list(range(1,50))\n",
    "# n_neighbors = list(range(1,30))\n",
    "# p = [1,2]\n",
    "# weights = 'uniform', 'distance'\n",
    "# algorithm = 'auto', 'ball_tree','kd_tree','brute'\n",
    "\n",
    "# #Hyper Parameters Set\n",
    "# param = {'leaf_size':leaf_size,\n",
    "#           'n_neighbors':n_neighbors,\n",
    "#           'p':p,\n",
    "#           'weights':weights,\n",
    "#           'algorithm':algorithm}\n",
    "\n",
    "# modelgs = GridSearchCV(model, param, cv = 3 )\n",
    "# modelgs.fit(xtr,ytr)\n",
    "# modelgs.best_params_"
   ]
  },
  {
   "cell_type": "code",
   "execution_count": 64,
   "metadata": {},
   "outputs": [
    {
     "data": {
      "text/plain": [
       "0.6296296296296297"
      ]
     },
     "execution_count": 64,
     "metadata": {},
     "output_type": "execute_result"
    }
   ],
   "source": [
    "modelknn = KNeighborsClassifier(\n",
    "    algorithm='auto',leaf_size=1,n_neighbors=21,p=1,weights='uniform'\n",
    ")\n",
    "modelknn.fit(xtr,ytr)\n",
    "modelknn.score(xval, yval)"
   ]
  },
  {
   "cell_type": "code",
   "execution_count": 65,
   "metadata": {},
   "outputs": [
    {
     "name": "stdout",
     "output_type": "stream",
     "text": [
      "Score after Hyper-Parameter Tuning :\n",
      "\n",
      "Logistic Regression Score = 0.8333333333333334 \n",
      "Random Forest Score = 0.8333333333333334 \n",
      "KNN Score = 0.6296296296296297 \n"
     ]
    }
   ],
   "source": [
    "print('Score after Hyper-Parameter Tuning :\\n')\n",
    "print('Logistic Regression Score = {} \\nRandom Forest Score = {} \\nKNN Score = {} '\n",
    "      .format(modellogreg.score(xval,yval), modelrf.score(xval,yval), modelknn.score(xval,yval)))"
   ]
  },
  {
   "cell_type": "markdown",
   "metadata": {},
   "source": [
    "### 7.4. Compare Score Model"
   ]
  },
  {
   "cell_type": "code",
   "execution_count": 66,
   "metadata": {},
   "outputs": [
    {
     "data": {
      "image/png": "[encoded data removed]",
      "text/plain": [
       "<Figure size 576x360 with 1 Axes>"
      ]
     },
     "metadata": {
      "needs_background": "light"
     },
     "output_type": "display_data"
    }
   ],
   "source": [
    "N = 3\n",
    "score = (83, 80, 62)\n",
    "\n",
    "fig, ax = plt.subplots(figsize=(8,5))\n",
    "\n",
    "ind = np.arange(N)    # the x locations for the groups\n",
    "width = 0.35         # the width of the bars\n",
    "p1 = ax.bar(ind, score, width, bottom=0)\n",
    "\n",
    "hyperparameter = (83, 83, 62)\n",
    "p2 = ax.bar(ind + width, hyperparameter, width, bottom=0)\n",
    "\n",
    "ax.set_title('Model Scores')\n",
    "ax.set_xticks(ind + width / 2)\n",
    "ax.set_xticklabels(('Logistic Regression', 'Random Forest', 'KNN'))\n",
    "ax.legend((p1[0], p2[0]), ('Model Score', 'Hyper-Parameter Tunning'))\n",
    "ax.autoscale_view()\n",
    "plt.show()"
   ]
  },
  {
   "cell_type": "markdown",
   "metadata": {},
   "source": [
    "# 8. Feature Selection"
   ]
  },
  {
   "cell_type": "markdown",
   "metadata": {},
   "source": [
    "### 8.1. Feature Selection Using Random Forest"
   ]
  },
  {
   "cell_type": "code",
   "execution_count": 67,
   "metadata": {},
   "outputs": [
    {
     "data": {
      "text/plain": [
       "SelectFromModel(estimator=RandomForestClassifier(bootstrap=True, ccp_alpha=0.0,\n",
       "                                                 class_weight=None,\n",
       "                                                 criterion='gini', max_depth=80,\n",
       "                                                 max_features='auto',\n",
       "                                                 max_leaf_nodes=None,\n",
       "                                                 max_samples=None,\n",
       "                                                 min_impurity_decrease=0.0,\n",
       "                                                 min_impurity_split=None,\n",
       "                                                 min_samples_leaf=4,\n",
       "                                                 min_samples_split=10,\n",
       "                                                 min_weight_fraction_leaf=0.0,\n",
       "                                                 n_estimators=100, n_jobs=None,\n",
       "                                                 oob_score=False,\n",
       "                                                 random_state=None, verbose=0,\n",
       "                                                 warm_start=False),\n",
       "                max_features=None, norm_order=1, prefit=False, threshold=0.15)"
      ]
     },
     "execution_count": 67,
     "metadata": {},
     "output_type": "execute_result"
    }
   ],
   "source": [
    "sfmRF = SelectFromModel(modelrf, threshold=0.15)\n",
    "\n",
    "# Train the selector\n",
    "sfmRF.fit(xtr, ytr)"
   ]
  },
  {
   "cell_type": "code",
   "execution_count": 68,
   "metadata": {},
   "outputs": [
    {
     "name": "stdout",
     "output_type": "stream",
     "text": [
      "('Gender', 0.015462748510825413)\n",
      "('Married', 0.03364827933798931)\n",
      "('Dependents', 0.03440244642073267)\n",
      "('Education', 0.021429107371968355)\n",
      "('Self_Employed', 0.012007003122640109)\n",
      "('Credit_History', 0.4583378995604648)\n",
      "('Property_Area', 0.047645223308665594)\n",
      "('Total_Income', 0.18499048829247514)\n",
      "('LoanAmount', 0.17536428586773647)\n",
      "('Loan_Amount_Term', 0.016712518206502176)\n"
     ]
    }
   ],
   "source": [
    "feat_labels = xtr.columns\n",
    "\n",
    "# Print the name and gini importance of each feature\n",
    "for feature in zip(feat_labels, modelrf.feature_importances_):\n",
    "    print(feature)"
   ]
  },
  {
   "cell_type": "code",
   "execution_count": 69,
   "metadata": {},
   "outputs": [
    {
     "name": "stdout",
     "output_type": "stream",
     "text": [
      "Credit_History\n",
      "Total_Income\n",
      "LoanAmount\n"
     ]
    }
   ],
   "source": [
    "for feature_list_index in sfmRF.get_support(indices=True):\n",
    "    print(feat_labels[feature_list_index])\n",
    "# selected_feat= xtr.columns[(sfm.get_support())]\n",
    "# len(selected_feat)\n",
    "# print(selected_feat)"
   ]
  },
  {
   "cell_type": "code",
   "execution_count": 70,
   "metadata": {},
   "outputs": [],
   "source": [
    "# Create A Data Subset With Only The Most Important Features\n",
    "# Transform the data to create a new dataset containing only the most important features\n",
    "# Note: We have to apply the transform to both the training X and val X data.\n",
    "\n",
    "x_important_train = sfmRF.transform(xtr)\n",
    "x_important_val = sfmRF.transform(xval)\n",
    "# x_important_train.shape\n",
    "# x_important_test = sfm.tranform(featuretest)"
   ]
  },
  {
   "cell_type": "code",
   "execution_count": 71,
   "metadata": {},
   "outputs": [
    {
     "data": {
      "text/plain": [
       "RandomForestClassifier(bootstrap=True, ccp_alpha=0.0, class_weight=None,\n",
       "                       criterion='gini', max_depth=80, max_features='auto',\n",
       "                       max_leaf_nodes=None, max_samples=None,\n",
       "                       min_impurity_decrease=0.0, min_impurity_split=None,\n",
       "                       min_samples_leaf=4, min_samples_split=10,\n",
       "                       min_weight_fraction_leaf=0.0, n_estimators=100,\n",
       "                       n_jobs=None, oob_score=False, random_state=None,\n",
       "                       verbose=0, warm_start=False)"
      ]
     },
     "execution_count": 71,
     "metadata": {},
     "output_type": "execute_result"
    }
   ],
   "source": [
    "# Train A New Random Forest Classifier Using Only Most Important Features\n",
    "# Create a new random forest classifier for the most important features\n",
    "\n",
    "rfimp = RandomForestClassifier(\n",
    "    bootstrap=True, max_depth=80,max_features='auto',min_samples_leaf=4,min_samples_split=10,n_estimators=100\n",
    ")\n",
    "\n",
    "# Train the new classifier on the new dataset containing the most important features\n",
    "rfimp.fit(x_important_train,ytr)"
   ]
  },
  {
   "cell_type": "code",
   "execution_count": 72,
   "metadata": {},
   "outputs": [
    {
     "data": {
      "text/plain": [
       "0.8333333333333334"
      ]
     },
     "execution_count": 72,
     "metadata": {},
     "output_type": "execute_result"
    }
   ],
   "source": [
    "# Apply The Full Featured Classifier To The Test Data\n",
    "y_pred = modelrf.predict(xval)\n",
    "\n",
    "# View The Accuracy Of Our Full Feature\n",
    "accuracy_score(yval, y_pred)"
   ]
  },
  {
   "cell_type": "code",
   "execution_count": 73,
   "metadata": {},
   "outputs": [
    {
     "data": {
      "text/plain": [
       "0.8333333333333334"
      ]
     },
     "execution_count": 73,
     "metadata": {},
     "output_type": "execute_result"
    }
   ],
   "source": [
    "# Apply The 4 Featured Classifier To The Test Data\n",
    "y_important_predrf = rfimp.predict(x_important_val)\n",
    "\n",
    "# View The Accuracy Of Our Limited Feature\n",
    "accuracy_score(yval, y_important_predrf)"
   ]
  },
  {
   "cell_type": "markdown",
   "metadata": {},
   "source": [
    "### 8.2. Feature Selection Using Logistic Regression"
   ]
  },
  {
   "cell_type": "code",
   "execution_count": 74,
   "metadata": {},
   "outputs": [
    {
     "data": {
      "text/plain": [
       "LogisticRegression(C=1.0, class_weight=None, dual=False, fit_intercept=True,\n",
       "                   intercept_scaling=1, l1_ratio=None, max_iter=100,\n",
       "                   multi_class='auto', n_jobs=None, penalty='l2',\n",
       "                   random_state=None, solver='newton-cg', tol=0.0001, verbose=0,\n",
       "                   warm_start=False)"
      ]
     },
     "execution_count": 74,
     "metadata": {},
     "output_type": "execute_result"
    }
   ],
   "source": [
    "lgimp = LogisticRegression(\n",
    "    C=1.0, solver='newton-cg', penalty='l2', max_iter=100, multi_class='auto'\n",
    ")\n",
    "\n",
    "# Train the new classifier on the new dataset containing the most important features\n",
    "lgimp.fit(x_important_train,ytr)"
   ]
  },
  {
   "cell_type": "code",
   "execution_count": 75,
   "metadata": {},
   "outputs": [
    {
     "data": {
      "text/plain": [
       "0.8333333333333334"
      ]
     },
     "execution_count": 75,
     "metadata": {},
     "output_type": "execute_result"
    }
   ],
   "source": [
    "#FULL FEATURE\n",
    "y_pred = modellogreg.predict(xval)\n",
    "accuracy_score(yval, y_pred)"
   ]
  },
  {
   "cell_type": "code",
   "execution_count": 76,
   "metadata": {},
   "outputs": [
    {
     "data": {
      "text/plain": [
       "0.8333333333333334"
      ]
     },
     "execution_count": 76,
     "metadata": {},
     "output_type": "execute_result"
    }
   ],
   "source": [
    "#IMPORTANT FEATURE\n",
    "y_important_predlg = lgimp.predict(x_important_val)\n",
    "accuracy_score(yval, y_important_predlg)"
   ]
  },
  {
   "cell_type": "markdown",
   "metadata": {},
   "source": [
    "### 8.3. Feature Selection Using K-Nearest Neighbors"
   ]
  },
  {
   "cell_type": "code",
   "execution_count": 77,
   "metadata": {},
   "outputs": [
    {
     "data": {
      "text/plain": [
       "KNeighborsClassifier(algorithm='auto', leaf_size=1, metric='minkowski',\n",
       "                     metric_params=None, n_jobs=None, n_neighbors=21, p=1,\n",
       "                     weights='uniform')"
      ]
     },
     "execution_count": 77,
     "metadata": {},
     "output_type": "execute_result"
    }
   ],
   "source": [
    "knnimp = KNeighborsClassifier(\n",
    "    algorithm='auto',leaf_size=1,n_neighbors=21,p=1,weights='uniform'\n",
    ")\n",
    "\n",
    "# Train the new classifier on the new dataset containing the most important features\n",
    "knnimp.fit(x_important_train,ytr)"
   ]
  },
  {
   "cell_type": "code",
   "execution_count": 78,
   "metadata": {},
   "outputs": [
    {
     "data": {
      "text/plain": [
       "0.6296296296296297"
      ]
     },
     "execution_count": 78,
     "metadata": {},
     "output_type": "execute_result"
    }
   ],
   "source": [
    "#FULL FEATURE\n",
    "y_pred = modelknn.predict(xval)\n",
    "accuracy_score(yval, y_pred)"
   ]
  },
  {
   "cell_type": "code",
   "execution_count": 79,
   "metadata": {},
   "outputs": [
    {
     "data": {
      "text/plain": [
       "0.6296296296296297"
      ]
     },
     "execution_count": 79,
     "metadata": {},
     "output_type": "execute_result"
    }
   ],
   "source": [
    "#IMPORTANT FEATURE\n",
    "y_important_predknn = knnimp.predict(x_important_val)\n",
    "accuracy_score(yval, y_important_predknn)"
   ]
  },
  {
   "cell_type": "markdown",
   "metadata": {},
   "source": [
    "### 8.4 Feature Selection Model Score "
   ]
  },
  {
   "cell_type": "code",
   "execution_count": 80,
   "metadata": {},
   "outputs": [
    {
     "data": {
      "image/png": "[encoded data removed]",
      "text/plain": [
       "<Figure size 576x360 with 1 Axes>"
      ]
     },
     "metadata": {
      "needs_background": "light"
     },
     "output_type": "display_data"
    }
   ],
   "source": [
    "N = 3\n",
    "score = (83, 83, 62)\n",
    "\n",
    "fig, ax = plt.subplots(figsize=(8,5))\n",
    "\n",
    "ind = np.arange(N)    # the x locations for the groups\n",
    "width = 0.35         # the width of the bars\n",
    "p1 = ax.bar(ind, score, width, bottom=0)\n",
    "\n",
    "hyperparameter = (83, 83, 62)\n",
    "p2 = ax.bar(ind + width, hyperparameter, width, bottom=0)\n",
    "\n",
    "ax.set_title('Feature Selection')\n",
    "ax.set_xticks(ind + width / 2)\n",
    "ax.set_xticklabels(('Logistic Regression', 'Random Forest', 'KNN'))\n",
    "ax.legend((p1[0], p2[0]), ('Full Featured', 'Importance Feature'))\n",
    "ax.autoscale_view()\n",
    "plt.show()"
   ]
  },
  {
   "cell_type": "markdown",
   "metadata": {},
   "source": [
    "## 9. Prediction "
   ]
  },
  {
   "cell_type": "code",
   "execution_count": 81,
   "metadata": {},
   "outputs": [
    {
     "data": {
      "text/html": [
       "<div>\n",
       "<style scoped>\n",
       "    .dataframe tbody tr th:only-of-type {\n",
       "        vertical-align: middle;\n",
       "    }\n",
       "\n",
       "    .dataframe tbody tr th {\n",
       "        vertical-align: top;\n",
       "    }\n",
       "\n",
       "    .dataframe thead th {\n",
       "        text-align: right;\n",
       "    }\n",
       "</style>\n",
       "<table border=\"1\" class=\"dataframe\">\n",
       "  <thead>\n",
       "    <tr style=\"text-align: right;\">\n",
       "      <th></th>\n",
       "      <th>Loan_Status</th>\n",
       "      <th>target actual</th>\n",
       "      <th>y prediksi KNN</th>\n",
       "      <th>y prediksi LogReg</th>\n",
       "      <th>y prediksi RanFor</th>\n",
       "    </tr>\n",
       "  </thead>\n",
       "  <tbody>\n",
       "    <tr>\n",
       "      <th>258</th>\n",
       "      <td>0</td>\n",
       "      <td>0</td>\n",
       "      <td>1</td>\n",
       "      <td>1</td>\n",
       "      <td>1</td>\n",
       "    </tr>\n",
       "    <tr>\n",
       "      <th>559</th>\n",
       "      <td>1</td>\n",
       "      <td>1</td>\n",
       "      <td>1</td>\n",
       "      <td>1</td>\n",
       "      <td>1</td>\n",
       "    </tr>\n",
       "    <tr>\n",
       "      <th>451</th>\n",
       "      <td>1</td>\n",
       "      <td>1</td>\n",
       "      <td>1</td>\n",
       "      <td>1</td>\n",
       "      <td>1</td>\n",
       "    </tr>\n",
       "    <tr>\n",
       "      <th>92</th>\n",
       "      <td>1</td>\n",
       "      <td>1</td>\n",
       "      <td>1</td>\n",
       "      <td>1</td>\n",
       "      <td>1</td>\n",
       "    </tr>\n",
       "    <tr>\n",
       "      <th>314</th>\n",
       "      <td>0</td>\n",
       "      <td>0</td>\n",
       "      <td>1</td>\n",
       "      <td>1</td>\n",
       "      <td>1</td>\n",
       "    </tr>\n",
       "    <tr>\n",
       "      <th>...</th>\n",
       "      <td>...</td>\n",
       "      <td>...</td>\n",
       "      <td>...</td>\n",
       "      <td>...</td>\n",
       "      <td>...</td>\n",
       "    </tr>\n",
       "    <tr>\n",
       "      <th>138</th>\n",
       "      <td>0</td>\n",
       "      <td>0</td>\n",
       "      <td>1</td>\n",
       "      <td>0</td>\n",
       "      <td>0</td>\n",
       "    </tr>\n",
       "    <tr>\n",
       "      <th>234</th>\n",
       "      <td>1</td>\n",
       "      <td>1</td>\n",
       "      <td>1</td>\n",
       "      <td>1</td>\n",
       "      <td>1</td>\n",
       "    </tr>\n",
       "    <tr>\n",
       "      <th>24</th>\n",
       "      <td>0</td>\n",
       "      <td>0</td>\n",
       "      <td>1</td>\n",
       "      <td>1</td>\n",
       "      <td>1</td>\n",
       "    </tr>\n",
       "    <tr>\n",
       "      <th>521</th>\n",
       "      <td>1</td>\n",
       "      <td>1</td>\n",
       "      <td>1</td>\n",
       "      <td>1</td>\n",
       "      <td>1</td>\n",
       "    </tr>\n",
       "    <tr>\n",
       "      <th>448</th>\n",
       "      <td>0</td>\n",
       "      <td>0</td>\n",
       "      <td>1</td>\n",
       "      <td>0</td>\n",
       "      <td>0</td>\n",
       "    </tr>\n",
       "  </tbody>\n",
       "</table>\n",
       "<p>108 rows × 5 columns</p>\n",
       "</div>"
      ],
      "text/plain": [
       "     Loan_Status  target actual  y prediksi KNN  y prediksi LogReg  \\\n",
       "258            0              0               1                  1   \n",
       "559            1              1               1                  1   \n",
       "451            1              1               1                  1   \n",
       "92             1              1               1                  1   \n",
       "314            0              0               1                  1   \n",
       "..           ...            ...             ...                ...   \n",
       "138            0              0               1                  0   \n",
       "234            1              1               1                  1   \n",
       "24             0              0               1                  1   \n",
       "521            1              1               1                  1   \n",
       "448            0              0               1                  0   \n",
       "\n",
       "     y prediksi RanFor  \n",
       "258                  1  \n",
       "559                  1  \n",
       "451                  1  \n",
       "92                   1  \n",
       "314                  1  \n",
       "..                 ...  \n",
       "138                  0  \n",
       "234                  1  \n",
       "24                   1  \n",
       "521                  1  \n",
       "448                  0  \n",
       "\n",
       "[108 rows x 5 columns]"
      ]
     },
     "execution_count": 81,
     "metadata": {},
     "output_type": "execute_result"
    }
   ],
   "source": [
    "datapredik= pd.DataFrame(yval)\n",
    "datapredik['target actual'] = yval\n",
    "datapredik['y prediksi KNN']= y_important_predknn\n",
    "datapredik['y prediksi LogReg']= y_important_predlg\n",
    "datapredik['y prediksi RanFor']= y_important_predrf\n",
    "datapredik"
   ]
  },
  {
   "cell_type": "markdown",
   "metadata": {},
   "source": [
    "# 10. Evaluation Metrics"
   ]
  },
  {
   "cell_type": "markdown",
   "metadata": {},
   "source": [
    "### 10.1 Cross Validation"
   ]
  },
  {
   "cell_type": "code",
   "execution_count": 82,
   "metadata": {},
   "outputs": [
    {
     "name": "stdout",
     "output_type": "stream",
     "text": [
      "0.8155835080363383\n",
      "0.8155136268343816\n",
      "0.7014675052410901\n"
     ]
    }
   ],
   "source": [
    "print(np.mean(cross_val_score(modellogreg,x,y, cv=10)))\n",
    "print(np.mean(cross_val_score(modelrf,x,y, cv=10)))\n",
    "print(np.mean(cross_val_score(modelknn,x,y, cv=10)))"
   ]
  },
  {
   "cell_type": "markdown",
   "metadata": {},
   "source": [
    "### 10.2. Confusion Matrix"
   ]
  },
  {
   "cell_type": "markdown",
   "metadata": {},
   "source": [
    "#### 10.2.1.Determine TN, FP, FN, TP"
   ]
  },
  {
   "cell_type": "code",
   "execution_count": 83,
   "metadata": {},
   "outputs": [
    {
     "name": "stdout",
     "output_type": "stream",
     "text": [
      "22 18 0 68\n",
      "23 17 1 67\n",
      "0 40 0 68\n"
     ]
    }
   ],
   "source": [
    "# 1. Logistic Regression \n",
    "\n",
    "# (Importance Features)\n",
    "tn, fp, fn, tp = confusion_matrix(yval,y_important_predlg).ravel()\n",
    "print(tn, fp, fn, tp)\n",
    "\n",
    "#2. Random Forest \n",
    "\n",
    "#Importance Feature \n",
    "tn, fp, fn, tp = confusion_matrix(yval,y_important_predrf).ravel()\n",
    "print(tn, fp, fn, tp)\n",
    "\n",
    "# 3. KNN \n",
    "\n",
    "#Importance Feature \n",
    "tn, fp, fn, tp = confusion_matrix(yval,y_important_predknn).ravel()\n",
    "print(tn, fp, fn, tp)"
   ]
  },
  {
   "cell_type": "code",
   "execution_count": 84,
   "metadata": {},
   "outputs": [
    {
     "data": {
      "text/plain": [
       "<matplotlib.axes._subplots.AxesSubplot at 0x124fec490>"
      ]
     },
     "execution_count": 84,
     "metadata": {},
     "output_type": "execute_result"
    },
    {
     "data": {
      "image/png": "[encoded data removed]",
      "text/plain": [
       "<Figure size 1080x216 with 6 Axes>"
      ]
     },
     "metadata": {
      "needs_background": "light"
     },
     "output_type": "display_data"
    }
   ],
   "source": [
    "plt.figure(figsize=(15,3))\n",
    "\n",
    "plt.subplot(131)\n",
    "plt.title('Logistic Regression')\n",
    "cm = confusion_matrix(yval, y_important_predlg)\n",
    "conf_matrix = pd.DataFrame(data=cm, columns=['Predicted:0','Predicted:1'], index=['Actual:0','Actual:1'])\n",
    "sb.heatmap(conf_matrix, annot=True, fmt='d')\n",
    "\n",
    "plt.subplot(132)\n",
    "plt.title('Random Forest')\n",
    "cm = confusion_matrix(yval, y_important_predrf)\n",
    "conf_matrix = pd.DataFrame(data=cm, columns=['Predicted:0','Predicted:1'], index=['Actual:0','Actual:1'])\n",
    "sb.heatmap(conf_matrix, annot=True, fmt='d')\n",
    "\n",
    "plt.subplot(133)\n",
    "plt.title('KNN')\n",
    "cm = confusion_matrix(yval, y_important_predknn)\n",
    "conf_matrix = pd.DataFrame(data=cm, columns=['Predicted:0','Predicted:1'], index=['Actual:0','Actual:1'])\n",
    "sb.heatmap(conf_matrix, annot=True, fmt='d')"
   ]
  },
  {
   "cell_type": "markdown",
   "metadata": {},
   "source": [
    "### 10.2.2. Accuracy, Recall, Precision, Prevelance, F1 Score, Balanced Accuracy"
   ]
  },
  {
   "cell_type": "markdown",
   "metadata": {},
   "source": [
    "- 1. Logistic Regression"
   ]
  },
  {
   "cell_type": "code",
   "execution_count": 85,
   "metadata": {},
   "outputs": [
    {
     "name": "stdout",
     "output_type": "stream",
     "text": [
      "Accuracy:  0.8333333333333334\n",
      "Accuracy_Score_sklearn=  0.8333333333333334\n",
      "Recall(+)= 1.0\n",
      "Recall(+)_sklearn = 1.0\n",
      "Recall(-)=  0.55\n",
      "Recall(-)_sklearn = 0.55\n",
      "Precision(+):  0.7906976744186046\n",
      "Precision(+)_sklearn =  0.7906976744186046\n",
      "Precision(-):  1.0\n",
      "Precision(-)_sklearn =  1.0\n",
      "Prevalence:  0.6296296296296297\n",
      "bAcc= 0.775\n",
      "bAcc_sklearn=  0.775\n",
      "F1 Score(+)=  0.8831168831168831\n",
      "F1 Score(+)_sklearn = 0.8831168831168831\n",
      "F1 Score(-)=  0.7096774193548387\n",
      "F1 Score(-)_sklearn = 0.7096774193548387\n"
     ]
    }
   ],
   "source": [
    "tnlogreg, fplogreg, fnlogreg, tplogreg = confusion_matrix(datapredik['target actual'], datapredik['y prediksi LogReg']).ravel()\n",
    "tplogreg, fnlogreg,fplogreg,tnlogreg\n",
    "\n",
    "print('Accuracy: ', (tplogreg+tnlogreg)/ (tplogreg+tnlogreg+fplogreg+fnlogreg))\n",
    "print('Accuracy_Score_sklearn= ', accuracy_score(datapredik['target actual'], datapredik['y prediksi LogReg']))\n",
    "\n",
    "print('Recall(+)=', tplogreg/(tplogreg+fnlogreg))\n",
    "print('Recall(+)_sklearn =', recall_score(datapredik['target actual'], datapredik['y prediksi LogReg']))\n",
    "\n",
    "print('Recall(-)= ', tnlogreg/(fplogreg+tnlogreg))\n",
    "print('Recall(-)_sklearn =', recall_score(datapredik['target actual'], datapredik['y prediksi LogReg'], pos_label=0))\n",
    "\n",
    "print('Precision(+): ', tplogreg / (tplogreg + fplogreg))\n",
    "print('Precision(+)_sklearn = ', precision_score(datapredik['target actual'], datapredik['y prediksi LogReg']))\n",
    "\n",
    "print('Precision(-): ', tnlogreg/ (tnlogreg+fnlogreg))\n",
    "print('Precision(-)_sklearn = ', precision_score(datapredik['target actual'], datapredik['y prediksi LogReg'], pos_label=0))\n",
    "\n",
    "print('Prevalence: ', (tplogreg + fnlogreg)/ (tplogreg+tnlogreg+fplogreg+fnlogreg))\n",
    "\n",
    "#Balanced Accuracy\n",
    "recallP = tplogreg/(tplogreg + fnlogreg)\n",
    "recallN = tnlogreg/(fplogreg+tnlogreg)\n",
    "bAcc= (recallP + recallN)/2\n",
    "print('bAcc=', bAcc)\n",
    "print('bAcc_sklearn= ', balanced_accuracy_score(datapredik['target actual'], datapredik['y prediksi LogReg']))\n",
    "\n",
    "#Hitung F1 Score \n",
    "prc = tplogreg/(tplogreg+fplogreg)\n",
    "rcl = tplogreg/(tplogreg+fnlogreg)\n",
    "\n",
    "prcn = tnlogreg/ (tnlogreg+fnlogreg)\n",
    "rcln = tnlogreg/(fplogreg+tnlogreg)\n",
    "print('F1 Score(+)= ', 2* ((prc*rcl)/(prc+rcl)))\n",
    "print('F1 Score(+)_sklearn =', f1_score(datapredik['target actual'], datapredik['y prediksi LogReg']))\n",
    "\n",
    "print('F1 Score(-)= ', 2* ((prcn*rcln)/(prcn+rcln)))\n",
    "print('F1 Score(-)_sklearn =', f1_score(datapredik['target actual'], datapredik['y prediksi LogReg'], pos_label=0))\n",
    "# print('roc_auc_score =',roc_auc_score(datapredik['target actual'], datapredik['y prediksi LogReg'].tolist(), average='macro', multi_class='ovo'))"
   ]
  },
  {
   "cell_type": "markdown",
   "metadata": {},
   "source": [
    "- 2. Random Forest "
   ]
  },
  {
   "cell_type": "code",
   "execution_count": 86,
   "metadata": {},
   "outputs": [
    {
     "name": "stdout",
     "output_type": "stream",
     "text": [
      "Accuracy:  0.8333333333333334\n",
      "Accuracy_Score_sklearn=  0.8333333333333334\n",
      "Recall(+)= 0.9852941176470589\n",
      "Recall(+)_sklearn = 0.9852941176470589\n",
      "Recall(-)=  0.575\n",
      "Recall(-)_sklearn = 0.575\n",
      "Precision(+):  0.7976190476190477\n",
      "Precision(+)_sklearn =  0.7976190476190477\n",
      "Precision(-):  0.9583333333333334\n",
      "Precision(-)_sklearn =  0.9583333333333334\n",
      "Prevalence:  0.6296296296296297\n",
      "bAcc= 0.7801470588235294\n",
      "bAcc_sklearn=  0.7801470588235294\n",
      "F1 Score(+)=  0.8815789473684211\n",
      "F1 Score(+)_sklearn = 0.8815789473684211\n",
      "F1 Score(-)=  0.71875\n",
      "F1 Score(-)_sklearn = 0.71875\n"
     ]
    }
   ],
   "source": [
    "tnrf, fprf, fnrf, tprf = confusion_matrix(datapredik['target actual'], datapredik['y prediksi RanFor']).ravel()\n",
    "tprf, fnrf,fprf,tnrf\n",
    "\n",
    "print('Accuracy: ', (tprf+tnrf)/ (tprf+tnrf+fprf+fnrf))\n",
    "print('Accuracy_Score_sklearn= ', accuracy_score(datapredik['target actual'], datapredik['y prediksi RanFor']))\n",
    "\n",
    "print('Recall(+)=', tprf/(tprf+fnrf))\n",
    "print('Recall(+)_sklearn =', recall_score(datapredik['target actual'], datapredik['y prediksi RanFor']))\n",
    "\n",
    "print('Recall(-)= ', tnrf/(fprf+tnrf))\n",
    "print('Recall(-)_sklearn =', recall_score(datapredik['target actual'], datapredik['y prediksi RanFor'], pos_label=0))\n",
    "\n",
    "print('Precision(+): ', tprf / (tprf + fprf))\n",
    "print('Precision(+)_sklearn = ', precision_score(datapredik['target actual'], datapredik['y prediksi RanFor']))\n",
    "\n",
    "print('Precision(-): ', tnrf/ (tnrf+fnrf))\n",
    "print('Precision(-)_sklearn = ', precision_score(datapredik['target actual'], datapredik['y prediksi RanFor'], pos_label=0))\n",
    "\n",
    "print('Prevalence: ', (tprf + fnrf)/ (tprf+tnrf+fprf+fnrf))\n",
    "\n",
    "#Balanced Accuracy\n",
    "recallP = tprf/(tprf + fnrf)\n",
    "recallN = tnrf/(fprf+tnrf)\n",
    "bAcc= (recallP + recallN)/2\n",
    "print('bAcc=', bAcc)\n",
    "print('bAcc_sklearn= ', balanced_accuracy_score(datapredik['target actual'], datapredik['y prediksi RanFor']))\n",
    "\n",
    "#Hitung F1 Score \n",
    "prc = tprf/(tprf+fprf)\n",
    "rcl = tprf/(tprf+fnrf)\n",
    "prcn = tnrf/ (tnrf+fnrf)\n",
    "rcln = tnrf/(fprf+tnrf)\n",
    "\n",
    "print('F1 Score(+)= ', 2* ((prc*rcl)/(prc+rcl)))\n",
    "print('F1 Score(+)_sklearn =', f1_score(datapredik['target actual'], datapredik['y prediksi RanFor']))\n",
    "\n",
    "print('F1 Score(-)= ', 2* ((prcn*rcln)/(prcn+rcln)))\n",
    "print('F1 Score(-)_sklearn =', f1_score(datapredik['target actual'], datapredik['y prediksi RanFor'], pos_label=0))"
   ]
  },
  {
   "cell_type": "markdown",
   "metadata": {},
   "source": [
    "- 3. K-Nearest Neighbors"
   ]
  },
  {
   "cell_type": "code",
   "execution_count": 87,
   "metadata": {},
   "outputs": [
    {
     "name": "stdout",
     "output_type": "stream",
     "text": [
      "Accuracy:  0.6296296296296297\n",
      "Accuracy_Score_sklearn=  0.6296296296296297\n",
      "Recall(+)= 1.0\n",
      "Recall(+)_sklearn = 1.0\n",
      "Recall(-)=  0.0\n",
      "Recall(-)_sklearn = 0.0\n",
      "Precision(+):  0.6296296296296297\n",
      "Precision(+)_sklearn =  0.6296296296296297\n",
      "Precision(-):  nan\n",
      "Precision(-)_sklearn =  0.0\n",
      "Prevalence:  0.6296296296296297\n",
      "bAcc= 0.5\n",
      "bAcc_sklearn=  0.5\n",
      "F1 Score(+)=  0.7727272727272727\n",
      "F1 Score(+)_sklearn = 0.7727272727272727\n",
      "F1 Score(-)=  nan\n",
      "F1 Score(-)_sklearn = 0.0\n"
     ]
    }
   ],
   "source": [
    "tnknn, fpknn, fnknn, tpknn = confusion_matrix(datapredik['target actual'], datapredik['y prediksi KNN']).ravel()\n",
    "tpknn, fnknn,fpknn,tnknn\n",
    "\n",
    "print('Accuracy: ', (tpknn+tnknn)/ (tpknn+tnknn+fpknn+fnknn))\n",
    "print('Accuracy_Score_sklearn= ', accuracy_score(datapredik['target actual'], datapredik['y prediksi KNN']))\n",
    "\n",
    "print('Recall(+)=', tpknn/(tpknn+fnknn))\n",
    "print('Recall(+)_sklearn =', recall_score(datapredik['target actual'], datapredik['y prediksi KNN']))\n",
    "\n",
    "print('Recall(-)= ', tnknn/(fpknn+tnknn))\n",
    "print('Recall(-)_sklearn =', recall_score(datapredik['target actual'], datapredik['y prediksi KNN'], pos_label=0))\n",
    "\n",
    "print('Precision(+): ', tpknn / (tpknn + fpknn))\n",
    "print('Precision(+)_sklearn = ', precision_score(datapredik['target actual'], datapredik['y prediksi KNN']))\n",
    "\n",
    "print('Precision(-): ', tnknn/ (tnknn+fnknn))\n",
    "print('Precision(-)_sklearn = ', precision_score(datapredik['target actual'], datapredik['y prediksi KNN'], pos_label=0))\n",
    "\n",
    "print('Prevalence: ', (tpknn + fnknn)/ (tpknn+tnknn+fpknn+fnknn))\n",
    "\n",
    "#Balanced Accuracy\n",
    "recallP = tpknn/(tpknn + fnknn)\n",
    "recallN = tnknn/(fpknn+tnknn)\n",
    "bAcc= (recallP + recallN)/2\n",
    "print('bAcc=', bAcc)\n",
    "print('bAcc_sklearn= ', balanced_accuracy_score(datapredik['target actual'], datapredik['y prediksi KNN']))\n",
    "\n",
    "#Hitung F1 Score \n",
    "prc = tpknn/(tpknn+fpknn)\n",
    "rcl = tpknn/(tpknn+fnknn)\n",
    "prcn = tnknn/ (tnknn+fnknn)\n",
    "rcln = tnknn/(fpknn+tnknn)\n",
    "\n",
    "print('F1 Score(+)= ', 2* ((prc*rcl)/(prc+rcl)))\n",
    "print('F1 Score(+)_sklearn =', f1_score(datapredik['target actual'], datapredik['y prediksi KNN']))\n",
    "\n",
    "print('F1 Score(-)= ', 2* ((prcn*rcln)/(prcn+rcln)))\n",
    "print('F1 Score(-)_sklearn =', f1_score(datapredik['target actual'], datapredik['y prediksi KNN'], pos_label=0))"
   ]
  },
  {
   "cell_type": "markdown",
   "metadata": {},
   "source": [
    "### 10.3. Classification Report "
   ]
  },
  {
   "cell_type": "code",
   "execution_count": 88,
   "metadata": {},
   "outputs": [
    {
     "name": "stdout",
     "output_type": "stream",
     "text": [
      "Logistic Regression\n",
      "[[22 18]\n",
      " [ 0 68]]\n",
      "              precision    recall  f1-score   support\n",
      "\n",
      "           0       1.00      0.55      0.71        40\n",
      "           1       0.79      1.00      0.88        68\n",
      "\n",
      "    accuracy                           0.83       108\n",
      "   macro avg       0.90      0.78      0.80       108\n",
      "weighted avg       0.87      0.83      0.82       108\n",
      "\n",
      "Random Forest\n",
      "[[23 17]\n",
      " [ 1 67]]\n",
      "              precision    recall  f1-score   support\n",
      "\n",
      "           0       0.96      0.57      0.72        40\n",
      "           1       0.80      0.99      0.88        68\n",
      "\n",
      "    accuracy                           0.83       108\n",
      "   macro avg       0.88      0.78      0.80       108\n",
      "weighted avg       0.86      0.83      0.82       108\n",
      "\n",
      "K-Nearest Neighbors\n",
      "[[ 0 40]\n",
      " [ 0 68]]\n",
      "              precision    recall  f1-score   support\n",
      "\n",
      "           0       0.00      0.00      0.00        40\n",
      "           1       0.63      1.00      0.77        68\n",
      "\n",
      "    accuracy                           0.63       108\n",
      "   macro avg       0.31      0.50      0.39       108\n",
      "weighted avg       0.40      0.63      0.49       108\n",
      "\n"
     ]
    }
   ],
   "source": [
    "print('Logistic Regression')\n",
    "print(confusion_matrix(yval, y_important_predlg))\n",
    "print(classification_report(yval, y_important_predlg))\n",
    "print('Random Forest')\n",
    "print(confusion_matrix(yval, y_important_predrf))\n",
    "print(classification_report(yval, y_important_predrf))\n",
    "print('K-Nearest Neighbors')\n",
    "print(confusion_matrix(yval, y_important_predknn))\n",
    "print(classification_report(yval, y_important_predknn))"
   ]
  },
  {
   "cell_type": "markdown",
   "metadata": {},
   "source": [
    "### 10.4. ROC AUC "
   ]
  },
  {
   "cell_type": "markdown",
   "metadata": {},
   "source": [
    "- 1 . Logistic Regression"
   ]
  },
  {
   "cell_type": "code",
   "execution_count": 89,
   "metadata": {},
   "outputs": [
    {
     "name": "stdout",
     "output_type": "stream",
     "text": [
      "roc_auc_score for Logistic Regression:  0.8147058823529412\n",
      "AUC: 0.815\n"
     ]
    },
    {
     "data": {
      "image/png": "[encoded data removed]",
      "text/plain": [
       "<Figure size 360x288 with 1 Axes>"
      ]
     },
     "metadata": {
      "needs_background": "light"
     },
     "output_type": "display_data"
    }
   ],
   "source": [
    "# 1. Logistic Regression \n",
    "\n",
    "# Get predicted probabilities\n",
    "# keep probabilities for the positive outcome only\n",
    "y_logreg =lgimp.predict_proba(x_important_val)[:,1]\n",
    "\n",
    "# Plot Receiving Operating Characteristic Curve\n",
    "# Create true and false positive rates\n",
    "\n",
    "fpr, tpr, thres = roc_curve(yval, y_logreg)\n",
    "fpr, tpr, thres \n",
    "print('roc_auc_score for Logistic Regression: ', roc_auc_score(yval, y_logreg))\n",
    "\n",
    "# calculate AUC\n",
    "auc = roc_auc_score(yval, y_logreg)\n",
    "print('AUC: %.3f' % auc)\n",
    "\n",
    "#Plot ROC curves\n",
    "# plt.plot(fpr,tpr)\n",
    "\n",
    "plt.subplots(1, figsize=(5,4))\n",
    "plt.title('Receiver Operating Characteristic - Logistic Regression')\n",
    "plt.plot(fpr, tpr)\n",
    "plt.plot([0, 1], '--r')\n",
    "plt.plot([0, 0], [1, 0] , c=\".7\"), plt.plot([1, 1] , c=\".7\")\n",
    "plt.ylabel('True Positive Rate')\n",
    "plt.xlabel('False Positive Rate')\n",
    "plt.show()"
   ]
  },
  {
   "cell_type": "markdown",
   "metadata": {},
   "source": [
    "- 2. Random Forest "
   ]
  },
  {
   "cell_type": "code",
   "execution_count": 90,
   "metadata": {},
   "outputs": [
    {
     "name": "stdout",
     "output_type": "stream",
     "text": [
      "roc_auc_score for Random Forest:  0.8062499999999999\n",
      "AUC: 0.806\n"
     ]
    },
    {
     "data": {
      "image/png": "[encoded data removed]",
      "text/plain": [
       "<Figure size 360x288 with 1 Axes>"
      ]
     },
     "metadata": {
      "needs_background": "light"
     },
     "output_type": "display_data"
    }
   ],
   "source": [
    "y_ranfor =rfimp.predict_proba(x_important_val)[:,1]\n",
    "fpr1, tpr1, thres = roc_curve(yval, y_ranfor)\n",
    "fpr1, tpr1, thres \n",
    "print('roc_auc_score for Random Forest: ', roc_auc_score(yval, y_ranfor))\n",
    "\n",
    "auc = roc_auc_score(yval, y_ranfor)\n",
    "print('AUC: %.3f' % auc)\n",
    "\n",
    "plt.subplots(1, figsize=(5,4))\n",
    "plt.title('Receiver Operating Characteristic - Random Forest')\n",
    "plt.plot(fpr1, tpr1)\n",
    "plt.plot([0, 1], '--r')\n",
    "plt.plot([0, 0], [1, 0] , c=\".7\"), plt.plot([1, 1] , c=\".7\")\n",
    "plt.ylabel('True Positive Rate')\n",
    "plt.xlabel('False Positive Rate')\n",
    "plt.show()"
   ]
  },
  {
   "cell_type": "markdown",
   "metadata": {},
   "source": [
    "- 3. K-Nearest Neighbors"
   ]
  },
  {
   "cell_type": "code",
   "execution_count": 91,
   "metadata": {},
   "outputs": [
    {
     "name": "stdout",
     "output_type": "stream",
     "text": [
      "roc_auc_score for KNN:  0.644485294117647\n",
      "AUC: 0.644\n"
     ]
    },
    {
     "data": {
      "image/png": "[encoded data removed]",
      "text/plain": [
       "<Figure size 360x288 with 1 Axes>"
      ]
     },
     "metadata": {
      "needs_background": "light"
     },
     "output_type": "display_data"
    }
   ],
   "source": [
    "y_knn =knnimp.predict_proba(x_important_val)[:,1]\n",
    "fpr2, tpr2, thres = roc_curve(yval, y_knn)\n",
    "fpr2, tpr2, thres \n",
    "print('roc_auc_score for KNN: ', roc_auc_score(yval, y_knn))\n",
    "\n",
    "auc = roc_auc_score(yval, y_knn)\n",
    "print('AUC: %.3f' % auc)\n",
    "\n",
    "plt.subplots(1, figsize=(5,4))\n",
    "plt.title('Receiver Operating Characteristic - KNN')\n",
    "plt.plot(fpr2, tpr2)\n",
    "plt.plot([0, 1], '--r')\n",
    "plt.plot([0, 0], [1, 0] , c=\".7\"), plt.plot([1, 1] , c=\".7\")\n",
    "plt.ylabel('True Positive Rate')\n",
    "plt.xlabel('False Positive Rate')\n",
    "plt.show()"
   ]
  },
  {
   "cell_type": "markdown",
   "metadata": {},
   "source": [
    "# 11. Create Joblib Model"
   ]
  },
  {
   "cell_type": "code",
   "execution_count": 147,
   "metadata": {},
   "outputs": [],
   "source": [
    "# joblib.dump(lgimp, 'modelJoblibRF')"
   ]
  },
  {
   "cell_type": "code",
   "execution_count": null,
   "metadata": {},
   "outputs": [],
   "source": []
  }
 ],
 "metadata": {
  "kernelspec": {
   "display_name": "Python 3",
   "language": "python",
   "name": "python3"
  },
  "language_info": {
   "codemirror_mode": {
    "name": "ipython",
    "version": 3
   },
   "file_extension": ".py",
   "mimetype": "text/x-python",
   "name": "python",
   "nbconvert_exporter": "python",
   "pygments_lexer": "ipython3",
   "version": "3.8.0"
  }
 },
 "nbformat": 4,
 "nbformat_minor": 4
}
