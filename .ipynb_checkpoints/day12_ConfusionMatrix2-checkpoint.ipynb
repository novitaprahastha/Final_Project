{
 "cells": [
  {
   "cell_type": "code",
   "execution_count": 61,
   "metadata": {},
   "outputs": [],
   "source": [
    "import numpy as np \n",
    "import pandas as pd \n",
    "import matplotlib.pyplot as plt\n",
    "import seaborn as sb\n",
    "from sklearn.linear_model import LogisticRegression\n",
    "from sklearn.datasets import load_digits\n",
    "from sklearn.model_selection import train_test_split\n",
    "from sklearn.datasets import fetch_olivetti_faces\n",
    "from sklearn.metrics import confusion_matrix\n",
    "from sklearn.metrics import plot_confusion_matrix\n",
    "from sklearn.metrics import accuracy_score\n",
    "from sklearn.metrics import recall_score\n",
    "from sklearn.metrics import precision_score\n",
    "from sklearn.metrics import balanced_accuracy_score\n",
    "from sklearn.metrics import f1_score\n",
    "from sklearn.metrics import precision_recall_fscore_support\n",
    "from sklearn.metrics import classification_report"
   ]
  },
  {
   "cell_type": "code",
   "execution_count": 13,
   "metadata": {},
   "outputs": [],
   "source": [
    "data = {\n",
    "    'x': np.arange(1,21),\n",
    "    'y': np.array([0,0,0,0,0,0,1,0,1,1,0,0,1,0,1,1,1,1,1,1])\n",
    "}\n",
    "df = pd.DataFrame(data)\n",
    "# df"
   ]
  },
  {
   "cell_type": "code",
   "execution_count": 12,
   "metadata": {},
   "outputs": [
    {
     "name": "stdout",
     "output_type": "stream",
     "text": [
      "[0, 0, 0, 0, 0, 0, 1, 0, 1, 1, 0, 0, 1, 0, 1, 1, 1, 1, 1, 1]\n",
      "[0, 0, 0, 0, 0, 0, 0, 0, 0, 0, 1, 1, 1, 1, 1, 1, 1, 1, 1, 1]\n"
     ]
    }
   ],
   "source": [
    "model = LogisticRegression(solver='lbfgs')\n",
    "model.fit(df[['x']], df['y'])\n",
    "\n",
    "y = df['y'].tolist()\n",
    "yp = model.predict(df[['x']]).tolist()\n",
    "\n",
    "print(y)\n",
    "print(yp)"
   ]
  },
  {
   "cell_type": "code",
   "execution_count": 14,
   "metadata": {},
   "outputs": [
    {
     "data": {
      "text/html": [
       "<div>\n",
       "<style scoped>\n",
       "    .dataframe tbody tr th:only-of-type {\n",
       "        vertical-align: middle;\n",
       "    }\n",
       "\n",
       "    .dataframe tbody tr th {\n",
       "        vertical-align: top;\n",
       "    }\n",
       "\n",
       "    .dataframe thead th {\n",
       "        text-align: right;\n",
       "    }\n",
       "</style>\n",
       "<table border=\"1\" class=\"dataframe\">\n",
       "  <thead>\n",
       "    <tr style=\"text-align: right;\">\n",
       "      <th></th>\n",
       "      <th>x</th>\n",
       "      <th>y</th>\n",
       "    </tr>\n",
       "  </thead>\n",
       "  <tbody>\n",
       "    <tr>\n",
       "      <th>0</th>\n",
       "      <td>1</td>\n",
       "      <td>Sarah</td>\n",
       "    </tr>\n",
       "    <tr>\n",
       "      <th>1</th>\n",
       "      <td>2</td>\n",
       "      <td>Sarah</td>\n",
       "    </tr>\n",
       "    <tr>\n",
       "      <th>2</th>\n",
       "      <td>3</td>\n",
       "      <td>Sarah</td>\n",
       "    </tr>\n",
       "    <tr>\n",
       "      <th>3</th>\n",
       "      <td>4</td>\n",
       "      <td>Sarah</td>\n",
       "    </tr>\n",
       "    <tr>\n",
       "      <th>4</th>\n",
       "      <td>5</td>\n",
       "      <td>Sarah</td>\n",
       "    </tr>\n",
       "    <tr>\n",
       "      <th>5</th>\n",
       "      <td>6</td>\n",
       "      <td>Sarah</td>\n",
       "    </tr>\n",
       "    <tr>\n",
       "      <th>6</th>\n",
       "      <td>7</td>\n",
       "      <td>Zaenab</td>\n",
       "    </tr>\n",
       "    <tr>\n",
       "      <th>7</th>\n",
       "      <td>8</td>\n",
       "      <td>Sarah</td>\n",
       "    </tr>\n",
       "    <tr>\n",
       "      <th>8</th>\n",
       "      <td>9</td>\n",
       "      <td>Zaenab</td>\n",
       "    </tr>\n",
       "    <tr>\n",
       "      <th>9</th>\n",
       "      <td>10</td>\n",
       "      <td>Zaenab</td>\n",
       "    </tr>\n",
       "    <tr>\n",
       "      <th>10</th>\n",
       "      <td>11</td>\n",
       "      <td>Sarah</td>\n",
       "    </tr>\n",
       "    <tr>\n",
       "      <th>11</th>\n",
       "      <td>12</td>\n",
       "      <td>Sarah</td>\n",
       "    </tr>\n",
       "    <tr>\n",
       "      <th>12</th>\n",
       "      <td>13</td>\n",
       "      <td>Zaenab</td>\n",
       "    </tr>\n",
       "    <tr>\n",
       "      <th>13</th>\n",
       "      <td>14</td>\n",
       "      <td>Sarah</td>\n",
       "    </tr>\n",
       "    <tr>\n",
       "      <th>14</th>\n",
       "      <td>15</td>\n",
       "      <td>Zaenab</td>\n",
       "    </tr>\n",
       "    <tr>\n",
       "      <th>15</th>\n",
       "      <td>16</td>\n",
       "      <td>Zaenab</td>\n",
       "    </tr>\n",
       "    <tr>\n",
       "      <th>16</th>\n",
       "      <td>17</td>\n",
       "      <td>Zaenab</td>\n",
       "    </tr>\n",
       "    <tr>\n",
       "      <th>17</th>\n",
       "      <td>18</td>\n",
       "      <td>Zaenab</td>\n",
       "    </tr>\n",
       "    <tr>\n",
       "      <th>18</th>\n",
       "      <td>19</td>\n",
       "      <td>Zaenab</td>\n",
       "    </tr>\n",
       "    <tr>\n",
       "      <th>19</th>\n",
       "      <td>20</td>\n",
       "      <td>Zaenab</td>\n",
       "    </tr>\n",
       "  </tbody>\n",
       "</table>\n",
       "</div>"
      ],
      "text/plain": [
       "     x       y\n",
       "0    1   Sarah\n",
       "1    2   Sarah\n",
       "2    3   Sarah\n",
       "3    4   Sarah\n",
       "4    5   Sarah\n",
       "5    6   Sarah\n",
       "6    7  Zaenab\n",
       "7    8   Sarah\n",
       "8    9  Zaenab\n",
       "9   10  Zaenab\n",
       "10  11   Sarah\n",
       "11  12   Sarah\n",
       "12  13  Zaenab\n",
       "13  14   Sarah\n",
       "14  15  Zaenab\n",
       "15  16  Zaenab\n",
       "16  17  Zaenab\n",
       "17  18  Zaenab\n",
       "18  19  Zaenab\n",
       "19  20  Zaenab"
      ]
     },
     "execution_count": 14,
     "metadata": {},
     "output_type": "execute_result"
    }
   ],
   "source": [
    "data = {\n",
    "    'x': np.arange(1,21),\n",
    "    'y': np.array([\n",
    "        'Sarah','Sarah', 'Sarah', 'Sarah', 'Sarah', \n",
    "        'Sarah','Zaenab', 'Sarah', 'Zaenab', 'Zaenab', \n",
    "        'Sarah','Sarah', 'Zaenab', 'Sarah', 'Zaenab', \n",
    "        'Zaenab','Zaenab', 'Zaenab', 'Zaenab', 'Zaenab'\n",
    "    ])\n",
    "}\n",
    "df = pd.DataFrame(data)\n",
    "df"
   ]
  },
  {
   "cell_type": "code",
   "execution_count": 15,
   "metadata": {},
   "outputs": [
    {
     "name": "stdout",
     "output_type": "stream",
     "text": [
      "['Sarah', 'Sarah', 'Sarah', 'Sarah', 'Sarah', 'Sarah', 'Zaenab', 'Sarah', 'Zaenab', 'Zaenab', 'Sarah', 'Sarah', 'Zaenab', 'Sarah', 'Zaenab', 'Zaenab', 'Zaenab', 'Zaenab', 'Zaenab', 'Zaenab']\n",
      "['Sarah', 'Sarah', 'Sarah', 'Sarah', 'Sarah', 'Sarah', 'Sarah', 'Sarah', 'Sarah', 'Sarah', 'Zaenab', 'Zaenab', 'Zaenab', 'Zaenab', 'Zaenab', 'Zaenab', 'Zaenab', 'Zaenab', 'Zaenab', 'Zaenab']\n"
     ]
    }
   ],
   "source": [
    "model = LogisticRegression(solver='lbfgs')\n",
    "model.fit(df[['x']], df['y'])\n",
    "\n",
    "y = df['y'].tolist()\n",
    "yp = model.predict(df[['x']]).tolist()\n",
    "\n",
    "print(y)\n",
    "print(yp)"
   ]
  },
  {
   "cell_type": "code",
   "execution_count": 16,
   "metadata": {},
   "outputs": [
    {
     "data": {
      "text/html": [
       "<div>\n",
       "<style scoped>\n",
       "    .dataframe tbody tr th:only-of-type {\n",
       "        vertical-align: middle;\n",
       "    }\n",
       "\n",
       "    .dataframe tbody tr th {\n",
       "        vertical-align: top;\n",
       "    }\n",
       "\n",
       "    .dataframe thead th {\n",
       "        text-align: right;\n",
       "    }\n",
       "</style>\n",
       "<table border=\"1\" class=\"dataframe\">\n",
       "  <thead>\n",
       "    <tr style=\"text-align: right;\">\n",
       "      <th></th>\n",
       "      <th>x</th>\n",
       "      <th>y</th>\n",
       "      <th>yp</th>\n",
       "    </tr>\n",
       "  </thead>\n",
       "  <tbody>\n",
       "    <tr>\n",
       "      <th>0</th>\n",
       "      <td>1</td>\n",
       "      <td>Sarah</td>\n",
       "      <td>Sarah</td>\n",
       "    </tr>\n",
       "    <tr>\n",
       "      <th>1</th>\n",
       "      <td>2</td>\n",
       "      <td>Sarah</td>\n",
       "      <td>Sarah</td>\n",
       "    </tr>\n",
       "    <tr>\n",
       "      <th>2</th>\n",
       "      <td>3</td>\n",
       "      <td>Sarah</td>\n",
       "      <td>Sarah</td>\n",
       "    </tr>\n",
       "    <tr>\n",
       "      <th>3</th>\n",
       "      <td>4</td>\n",
       "      <td>Sarah</td>\n",
       "      <td>Sarah</td>\n",
       "    </tr>\n",
       "    <tr>\n",
       "      <th>4</th>\n",
       "      <td>5</td>\n",
       "      <td>Sarah</td>\n",
       "      <td>Sarah</td>\n",
       "    </tr>\n",
       "    <tr>\n",
       "      <th>5</th>\n",
       "      <td>6</td>\n",
       "      <td>Sarah</td>\n",
       "      <td>Sarah</td>\n",
       "    </tr>\n",
       "    <tr>\n",
       "      <th>6</th>\n",
       "      <td>7</td>\n",
       "      <td>Zaenab</td>\n",
       "      <td>Sarah</td>\n",
       "    </tr>\n",
       "    <tr>\n",
       "      <th>7</th>\n",
       "      <td>8</td>\n",
       "      <td>Sarah</td>\n",
       "      <td>Sarah</td>\n",
       "    </tr>\n",
       "    <tr>\n",
       "      <th>8</th>\n",
       "      <td>9</td>\n",
       "      <td>Zaenab</td>\n",
       "      <td>Sarah</td>\n",
       "    </tr>\n",
       "    <tr>\n",
       "      <th>9</th>\n",
       "      <td>10</td>\n",
       "      <td>Zaenab</td>\n",
       "      <td>Sarah</td>\n",
       "    </tr>\n",
       "    <tr>\n",
       "      <th>10</th>\n",
       "      <td>11</td>\n",
       "      <td>Sarah</td>\n",
       "      <td>Zaenab</td>\n",
       "    </tr>\n",
       "    <tr>\n",
       "      <th>11</th>\n",
       "      <td>12</td>\n",
       "      <td>Sarah</td>\n",
       "      <td>Zaenab</td>\n",
       "    </tr>\n",
       "    <tr>\n",
       "      <th>12</th>\n",
       "      <td>13</td>\n",
       "      <td>Zaenab</td>\n",
       "      <td>Zaenab</td>\n",
       "    </tr>\n",
       "    <tr>\n",
       "      <th>13</th>\n",
       "      <td>14</td>\n",
       "      <td>Sarah</td>\n",
       "      <td>Zaenab</td>\n",
       "    </tr>\n",
       "    <tr>\n",
       "      <th>14</th>\n",
       "      <td>15</td>\n",
       "      <td>Zaenab</td>\n",
       "      <td>Zaenab</td>\n",
       "    </tr>\n",
       "    <tr>\n",
       "      <th>15</th>\n",
       "      <td>16</td>\n",
       "      <td>Zaenab</td>\n",
       "      <td>Zaenab</td>\n",
       "    </tr>\n",
       "    <tr>\n",
       "      <th>16</th>\n",
       "      <td>17</td>\n",
       "      <td>Zaenab</td>\n",
       "      <td>Zaenab</td>\n",
       "    </tr>\n",
       "    <tr>\n",
       "      <th>17</th>\n",
       "      <td>18</td>\n",
       "      <td>Zaenab</td>\n",
       "      <td>Zaenab</td>\n",
       "    </tr>\n",
       "    <tr>\n",
       "      <th>18</th>\n",
       "      <td>19</td>\n",
       "      <td>Zaenab</td>\n",
       "      <td>Zaenab</td>\n",
       "    </tr>\n",
       "    <tr>\n",
       "      <th>19</th>\n",
       "      <td>20</td>\n",
       "      <td>Zaenab</td>\n",
       "      <td>Zaenab</td>\n",
       "    </tr>\n",
       "  </tbody>\n",
       "</table>\n",
       "</div>"
      ],
      "text/plain": [
       "     x       y      yp\n",
       "0    1   Sarah   Sarah\n",
       "1    2   Sarah   Sarah\n",
       "2    3   Sarah   Sarah\n",
       "3    4   Sarah   Sarah\n",
       "4    5   Sarah   Sarah\n",
       "5    6   Sarah   Sarah\n",
       "6    7  Zaenab   Sarah\n",
       "7    8   Sarah   Sarah\n",
       "8    9  Zaenab   Sarah\n",
       "9   10  Zaenab   Sarah\n",
       "10  11   Sarah  Zaenab\n",
       "11  12   Sarah  Zaenab\n",
       "12  13  Zaenab  Zaenab\n",
       "13  14   Sarah  Zaenab\n",
       "14  15  Zaenab  Zaenab\n",
       "15  16  Zaenab  Zaenab\n",
       "16  17  Zaenab  Zaenab\n",
       "17  18  Zaenab  Zaenab\n",
       "18  19  Zaenab  Zaenab\n",
       "19  20  Zaenab  Zaenab"
      ]
     },
     "execution_count": 16,
     "metadata": {},
     "output_type": "execute_result"
    }
   ],
   "source": [
    "df['yp'] = yp\n",
    "df"
   ]
  },
  {
   "cell_type": "markdown",
   "metadata": {},
   "source": [
    "#BIKIN CONFUSING MATRIX \n",
    "#Sarah = 0\n",
    "#Zaenab = 1\n",
    "\n",
    "- | prediksi Sarah | prediksi Zaenab \n",
    "- | - | -\n",
    "__aktual Sarah__  | TN | FP\n",
    "__aktual Zaenab__ | FN | TP"
   ]
  },
  {
   "cell_type": "code",
   "execution_count": 23,
   "metadata": {},
   "outputs": [
    {
     "name": "stdout",
     "output_type": "stream",
     "text": [
      "7\n",
      "7\n",
      "3\n",
      "3\n"
     ]
    },
    {
     "name": "stderr",
     "output_type": "stream",
     "text": [
      "<ipython-input-23-c2156027ba48>:3: UserWarning: Boolean Series key will be reindexed to match DataFrame index.\n",
      "  tp = len(df[df['y']=='Zaenab'][df['yp']=='Zaenab'].index)\n",
      "<ipython-input-23-c2156027ba48>:4: UserWarning: Boolean Series key will be reindexed to match DataFrame index.\n",
      "  tn = len(df[df['y']=='Sarah'][df['yp']=='Sarah'].index)\n",
      "<ipython-input-23-c2156027ba48>:5: UserWarning: Boolean Series key will be reindexed to match DataFrame index.\n",
      "  fp = len(df[df['y']=='Sarah'][df['yp']=='Zaenab'].index)\n",
      "<ipython-input-23-c2156027ba48>:6: UserWarning: Boolean Series key will be reindexed to match DataFrame index.\n",
      "  fn = len(df[df['y']=='Zaenab'][df['yp']=='Sarah'].index)\n"
     ]
    }
   ],
   "source": [
    "#MENCARI TP, TN, FP, FN\n",
    "\n",
    "tp = len(df[df['y']=='Zaenab'][df['yp']=='Zaenab'].index)\n",
    "tn = len(df[df['y']=='Sarah'][df['yp']=='Sarah'].index)\n",
    "fp = len(df[df['y']=='Sarah'][df['yp']=='Zaenab'].index)\n",
    "fn = len(df[df['y']=='Zaenab'][df['yp']=='Sarah'].index)\n",
    "\n",
    "#atau pake.count()\n",
    "\n",
    "print(tp)\n",
    "print(tn)\n",
    "print(fp)\n",
    "print(fn)"
   ]
  },
  {
   "cell_type": "code",
   "execution_count": 31,
   "metadata": {},
   "outputs": [
    {
     "name": "stdout",
     "output_type": "stream",
     "text": [
      "Akurasi= 0.7\n",
      "Error Rate= 0.3\n",
      "Recall(+)= 0.7\n",
      "FP Rate= 0.3\n",
      "Recall(-)=  0.7\n",
      "FN Rate=  0.3\n",
      "Precision(+)=  0.7\n",
      "Precision(-)=  0.7\n",
      "F1 Score=  0.7\n"
     ]
    }
   ],
   "source": [
    "print('Akurasi=', (tp+tn)/ (tp+tn+fp+fn))\n",
    "print('Error Rate=', (fp+fn)/ (tp+tn+fp+fn))\n",
    "\n",
    "print('Recall(+)=', tp/(tp+fn))\n",
    "print('FP Rate=', fp/ (fp+tn))\n",
    "print('Recall(-)= ', tn/(fp+tn))\n",
    "print('FN Rate= ', fn/ (tp+fn))\n",
    "\n",
    "print('Precision(+)= ', tp/ (tp+fp))\n",
    "print('Precision(-)= ', tn/ (tn+fn))\n",
    "\n",
    "prc = tp/(tp+fp)\n",
    "rcl = tp/(tp+fn)\n",
    "print('F1 Score= ', 2* ((prc*rcl)/(prc+rcl)))"
   ]
  },
  {
   "cell_type": "code",
   "execution_count": 32,
   "metadata": {},
   "outputs": [
    {
     "data": {
      "text/plain": [
       "(7, 3, 3, 7)"
      ]
     },
     "execution_count": 32,
     "metadata": {},
     "output_type": "execute_result"
    }
   ],
   "source": [
    "TP, FN, FP, TN = confusion_matrix(df['y'], df['yp']).ravel()\n",
    "TP, FN, FP, TN"
   ]
  },
  {
   "cell_type": "markdown",
   "metadata": {},
   "source": [
    "- AKURASI MODEL SKLEARN"
   ]
  },
  {
   "cell_type": "code",
   "execution_count": 39,
   "metadata": {},
   "outputs": [
    {
     "name": "stdout",
     "output_type": "stream",
     "text": [
      "model_score=  0.7\n",
      "accuracy_score=  0.7\n",
      "error_rate=  0.30000000000000004\n"
     ]
    }
   ],
   "source": [
    "\n",
    "# 1.\n",
    "print('model_score= ', model.score(df[['x']], df['y']))\n",
    "\n",
    "#2. \n",
    "print('accuracy_score= ', accuracy_score(df['y'], df['yp']))\n",
    "\n",
    "#3. \n",
    "print('error_rate= ', 1 - accuracy_score(df['y'], df['yp']))"
   ]
  },
  {
   "cell_type": "markdown",
   "metadata": {},
   "source": [
    "- RECALL"
   ]
  },
  {
   "cell_type": "code",
   "execution_count": 41,
   "metadata": {},
   "outputs": [
    {
     "name": "stdout",
     "output_type": "stream",
     "text": [
      "Recall(+)= 0.7\n",
      "Recall(-)= 0.7\n"
     ]
    }
   ],
   "source": [
    "# 1. \n",
    "print(\n",
    "    'Recall(+)=',  \n",
    "    recall_score(df['y'], df['yp'], pos_label='Zaenab')\n",
    ")\n",
    "\n",
    "# 2.\n",
    "print(\n",
    "    'Recall(-)=', \n",
    "    recall_score(df['y'], df['yp'], pos_label='Sarah')\n",
    ")"
   ]
  },
  {
   "cell_type": "markdown",
   "metadata": {},
   "source": [
    "- PRECISION"
   ]
  },
  {
   "cell_type": "code",
   "execution_count": 45,
   "metadata": {},
   "outputs": [
    {
     "name": "stdout",
     "output_type": "stream",
     "text": [
      "Precision(+)= 0.7\n",
      "Precision(-)= 0.7\n"
     ]
    }
   ],
   "source": [
    "#1.\n",
    "\n",
    "print(\n",
    "    'Precision(+)=', \n",
    "    precision_score(df['y'], df['yp'], pos_label='Zaenab')\n",
    ")\n",
    "\n",
    "#2.\n",
    "\n",
    "print(\n",
    "    'Precision(-)=', \n",
    "    precision_score(df['y'], df['yp'], pos_label='Sarah')\n",
    ")"
   ]
  },
  {
   "cell_type": "markdown",
   "metadata": {},
   "source": [
    "- BALANCED ACCURACY"
   ]
  },
  {
   "cell_type": "code",
   "execution_count": 49,
   "metadata": {},
   "outputs": [
    {
     "name": "stdout",
     "output_type": "stream",
     "text": [
      "bAcc =  0.7\n",
      "bAcc=  0.7\n"
     ]
    }
   ],
   "source": [
    "#cara manual:\n",
    "\n",
    "rclP = TP / (TP+FN)\n",
    "rclN = TN / (FP+TN)\n",
    "bAcc = (rclP + rclN) / 2 \n",
    "print('bAcc = ', bAcc)\n",
    "\n",
    "#cara sklearn\n",
    "print('bAcc= ', balanced_accuracy_score(df['y'], df['yp']))"
   ]
  },
  {
   "cell_type": "markdown",
   "metadata": {},
   "source": [
    "- F1 SCORE"
   ]
  },
  {
   "cell_type": "code",
   "execution_count": 53,
   "metadata": {},
   "outputs": [
    {
     "name": "stdout",
     "output_type": "stream",
     "text": [
      "F1 Score(+)=  0.7\n",
      "F1 Score(-)=  0.7\n"
     ]
    }
   ],
   "source": [
    "#1.\n",
    "\n",
    "print('F1 Score(+)= ', f1_score(df['y'], df['yp'], pos_label='Zaenab'))\n",
    "\n",
    "#2. \n",
    "\n",
    "print('F1 Score(-)= ', f1_score(df['y'], df['yp'], pos_label='Sarah'))"
   ]
  },
  {
   "cell_type": "markdown",
   "metadata": {},
   "source": [
    "- precision_recall_fscore_support function "
   ]
  },
  {
   "cell_type": "code",
   "execution_count": 60,
   "metadata": {},
   "outputs": [
    {
     "data": {
      "text/plain": [
       "(array([0.7, 0.7]), array([0.7, 0.7]), array([0.7, 0.7]), array([10, 10]))"
      ]
     },
     "execution_count": 60,
     "metadata": {},
     "output_type": "execute_result"
    }
   ],
   "source": [
    "precision_recall_fscore_support(df['y'], df['yp'])\n",
    "\n",
    "#support = ada berapa sarah dan zaenab di y prediksi? 10:10"
   ]
  },
  {
   "cell_type": "markdown",
   "metadata": {},
   "source": [
    "- PRECISION REPORT "
   ]
  },
  {
   "cell_type": "code",
   "execution_count": 62,
   "metadata": {},
   "outputs": [
    {
     "name": "stdout",
     "output_type": "stream",
     "text": [
      "              precision    recall  f1-score   support\n",
      "\n",
      "       Sarah       0.70      0.70      0.70        10\n",
      "      Zaenab       0.70      0.70      0.70        10\n",
      "\n",
      "    accuracy                           0.70        20\n",
      "   macro avg       0.70      0.70      0.70        20\n",
      "weighted avg       0.70      0.70      0.70        20\n",
      "\n"
     ]
    }
   ],
   "source": [
    "print(classification_report(df['y'], df['yp']))"
   ]
  },
  {
   "cell_type": "code",
   "execution_count": 63,
   "metadata": {},
   "outputs": [
    {
     "name": "stdout",
     "output_type": "stream",
     "text": [
      "\n"
     ]
    }
   ],
   "source": [
    "print()"
   ]
  },
  {
   "cell_type": "code",
   "execution_count": 65,
   "metadata": {},
   "outputs": [
    {
     "data": {
      "text/plain": [
       "(1.85, 1.85)"
      ]
     },
     "execution_count": 65,
     "metadata": {},
     "output_type": "execute_result"
    }
   ],
   "source": [
    "#Precision\n",
    "\n",
    "precSa = TN / (TN/FN)\n",
    "precZa = TP / (TP + FP)\n",
    "\n",
    "precSa, precZa\n",
    "\n",
    "precMacro = (precSa + precZa)/2\n",
    "precWeighted = ((precSa * 1)+(precZa * 1)) / (1+1) #jumlah population\n",
    "precMacro, precWeighted\n",
    "\n",
    "precMicro = "
   ]
  },
  {
   "cell_type": "code",
   "execution_count": 66,
   "metadata": {},
   "outputs": [],
   "source": [
    "y = ['kucing', 'anjing', 'gajah', 'kucing', 'anjing', 'gajah']\n",
    "yp = ['kucing', 'kucing', 'gajah', 'kucing', 'kucing', 'gajah']\n",
    "#confusion matriks "
   ]
  },
  {
   "cell_type": "code",
   "execution_count": null,
   "metadata": {},
   "outputs": [],
   "source": []
  }
 ],
 "metadata": {
  "kernelspec": {
   "display_name": "Python 3",
   "language": "python",
   "name": "python3"
  },
  "language_info": {
   "codemirror_mode": {
    "name": "ipython",
    "version": 3
   },
   "file_extension": ".py",
   "mimetype": "text/x-python",
   "name": "python",
   "nbconvert_exporter": "python",
   "pygments_lexer": "ipython3",
   "version": "3.8.0"
  }
 },
 "nbformat": 4,
 "nbformat_minor": 4
}
