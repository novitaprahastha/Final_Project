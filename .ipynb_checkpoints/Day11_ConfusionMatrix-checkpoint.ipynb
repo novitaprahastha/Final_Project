{
 "cells": [
  {
   "cell_type": "markdown",
   "metadata": {},
   "source": [
    "# CONFUSION MATRIX "
   ]
  },
  {
   "cell_type": "code",
   "execution_count": 1,
   "metadata": {},
   "outputs": [],
   "source": [
    "import numpy as np \n",
    "import pandas as pd \n",
    "import matplotlib.pyplot as plt\n",
    "import seaborn as sb\n",
    "from sklearn.linear_model import LogisticRegression\n",
    "from sklearn.datasets import load_digits\n",
    "from sklearn.model_selection import train_test_split\n",
    "from sklearn.datasets import fetch_olivetti_faces\n",
    "from sklearn.metrics import confusion_matrix\n",
    "from sklearn.metrics import plot_confusion_matrix"
   ]
  },
  {
   "cell_type": "code",
   "execution_count": 2,
   "metadata": {},
   "outputs": [],
   "source": [
    "ya = [0, 0, 0, 0, 0, 1, 1, 1, 1, 1]\n",
    "yp = [0, 0, 0, 1, 1, 0, 0, 1, 1, 1]\n",
    "\n",
    "# ya = y aktual\n",
    "# yp = y prediksi "
   ]
  },
  {
   "cell_type": "markdown",
   "metadata": {},
   "source": [
    "- | prediksi 0 | prediksi 1 \n",
    "- | - | -\n",
    "__aktual 0__ | 3 | 2\n",
    "__aktual 1__ | 2 | 3"
   ]
  },
  {
   "cell_type": "code",
   "execution_count": 3,
   "metadata": {},
   "outputs": [
    {
     "data": {
      "text/plain": [
       "array([[3, 2],\n",
       "       [2, 3]])"
      ]
     },
     "execution_count": 3,
     "metadata": {},
     "output_type": "execute_result"
    }
   ],
   "source": [
    "#CONFUSION MATRIKS MENGGUNAKAN SKLEARN \n",
    "\n",
    "from sklearn.metrics import confusion_matrix\n",
    "cm = confusion_matrix(ya, yp)\n",
    "cm"
   ]
  },
  {
   "cell_type": "code",
   "execution_count": 4,
   "metadata": {},
   "outputs": [
    {
     "data": {
      "text/html": [
       "<div>\n",
       "<style scoped>\n",
       "    .dataframe tbody tr th:only-of-type {\n",
       "        vertical-align: middle;\n",
       "    }\n",
       "\n",
       "    .dataframe tbody tr th {\n",
       "        vertical-align: top;\n",
       "    }\n",
       "\n",
       "    .dataframe thead th {\n",
       "        text-align: right;\n",
       "    }\n",
       "</style>\n",
       "<table border=\"1\" class=\"dataframe\">\n",
       "  <thead>\n",
       "    <tr style=\"text-align: right;\">\n",
       "      <th></th>\n",
       "      <th>Prediksi 0</th>\n",
       "      <th>Prediksi 1</th>\n",
       "    </tr>\n",
       "  </thead>\n",
       "  <tbody>\n",
       "    <tr>\n",
       "      <th>Actual 0</th>\n",
       "      <td>3</td>\n",
       "      <td>2</td>\n",
       "    </tr>\n",
       "    <tr>\n",
       "      <th>Actual 1</th>\n",
       "      <td>2</td>\n",
       "      <td>3</td>\n",
       "    </tr>\n",
       "  </tbody>\n",
       "</table>\n",
       "</div>"
      ],
      "text/plain": [
       "          Prediksi 0  Prediksi 1 \n",
       "Actual 0           3            2\n",
       "Actual 1           2            3"
      ]
     },
     "execution_count": 4,
     "metadata": {},
     "output_type": "execute_result"
    }
   ],
   "source": [
    "df = pd.DataFrame(\n",
    "    cm, \n",
    "    columns=['Prediksi 0', 'Prediksi 1 '],\n",
    "    index=['Actual 0', 'Actual 1']\n",
    ")\n",
    "df\n",
    "\n",
    "##hasilnya akan sama dengan perhitungan yang manual diatas "
   ]
  },
  {
   "cell_type": "code",
   "execution_count": 5,
   "metadata": {},
   "outputs": [
    {
     "data": {
      "text/plain": [
       "<matplotlib.axes._subplots.AxesSubplot at 0x11d8a9be0>"
      ]
     },
     "execution_count": 5,
     "metadata": {},
     "output_type": "execute_result"
    },
    {
     "data": {
      "image/png": "[encoded data removed]",
      "text/plain": [
       "<Figure size 432x288 with 2 Axes>"
      ]
     },
     "metadata": {
      "needs_background": "light"
     },
     "output_type": "display_data"
    }
   ],
   "source": [
    "#PLOT CONFUSION MATRIKS USING SEABORN \n",
    "sb.heatmap(df, annot=True, annot_kws={\"size\":30})"
   ]
  },
  {
   "cell_type": "markdown",
   "metadata": {},
   "source": [
    "# Case 1"
   ]
  },
  {
   "cell_type": "code",
   "execution_count": 6,
   "metadata": {},
   "outputs": [
    {
     "data": {
      "text/plain": [
       "LogisticRegression(C=1.0, class_weight=None, dual=False, fit_intercept=True,\n",
       "                   intercept_scaling=1, l1_ratio=None, max_iter=100,\n",
       "                   multi_class='auto', n_jobs=None, penalty='l2',\n",
       "                   random_state=None, solver='lbfgs', tol=0.0001, verbose=0,\n",
       "                   warm_start=False)"
      ]
     },
     "execution_count": 6,
     "metadata": {},
     "output_type": "execute_result"
    }
   ],
   "source": [
    "x = np.arange(1, 11)\n",
    "y = np.array([0, 0, 0, 0, 1, 0, 1, 0, 1, 1]) #y aktual\n",
    "\n",
    "model = LogisticRegression(solver='lbfgs')\n",
    "model.fit(x.reshape(-1, 1),y) #di reshape krn harus dua dimensi"
   ]
  },
  {
   "cell_type": "code",
   "execution_count": 7,
   "metadata": {},
   "outputs": [
    {
     "name": "stdout",
     "output_type": "stream",
     "text": [
      "[0 0 0 0 1 0 1 0 1 1]\n",
      "[0 0 0 0 0 0 1 1 1 1]\n"
     ]
    }
   ],
   "source": [
    "#PREDIKSI (Y PREDIKSI)\n",
    "yp = model.predict(x.reshape(-1, 1))\n",
    "print(y)\n",
    "print(yp)"
   ]
  },
  {
   "cell_type": "markdown",
   "metadata": {},
   "source": [
    "- | prediksi 0 | prediksi 1\n",
    "- | - | -\n",
    "__aktual 0__ | 5 | 1\n",
    "__aktual 1__ | 1 | 3"
   ]
  },
  {
   "cell_type": "code",
   "execution_count": 8,
   "metadata": {},
   "outputs": [
    {
     "data": {
      "text/html": [
       "<div>\n",
       "<style scoped>\n",
       "    .dataframe tbody tr th:only-of-type {\n",
       "        vertical-align: middle;\n",
       "    }\n",
       "\n",
       "    .dataframe tbody tr th {\n",
       "        vertical-align: top;\n",
       "    }\n",
       "\n",
       "    .dataframe thead th {\n",
       "        text-align: right;\n",
       "    }\n",
       "</style>\n",
       "<table border=\"1\" class=\"dataframe\">\n",
       "  <thead>\n",
       "    <tr style=\"text-align: right;\">\n",
       "      <th></th>\n",
       "      <th>Prediksi 0</th>\n",
       "      <th>Prediksi 1</th>\n",
       "    </tr>\n",
       "  </thead>\n",
       "  <tbody>\n",
       "    <tr>\n",
       "      <th>Act 0</th>\n",
       "      <td>5</td>\n",
       "      <td>1</td>\n",
       "    </tr>\n",
       "    <tr>\n",
       "      <th>Act 1</th>\n",
       "      <td>1</td>\n",
       "      <td>3</td>\n",
       "    </tr>\n",
       "  </tbody>\n",
       "</table>\n",
       "</div>"
      ],
      "text/plain": [
       "       Prediksi 0  Prediksi 1\n",
       "Act 0           5           1\n",
       "Act 1           1           3"
      ]
     },
     "execution_count": 8,
     "metadata": {},
     "output_type": "execute_result"
    }
   ],
   "source": [
    "cm = confusion_matrix(y, yp, labels=[0, 1])\n",
    "# cm\n",
    "\n",
    "df = pd.DataFrame(\n",
    "    cm,\n",
    "    columns=['Prediksi 0', 'Prediksi 1'],\n",
    "    index=['Act 0', 'Act 1']\n",
    ")\n",
    "df"
   ]
  },
  {
   "cell_type": "code",
   "execution_count": 9,
   "metadata": {},
   "outputs": [
    {
     "data": {
      "text/plain": [
       "<sklearn.metrics._plot.confusion_matrix.ConfusionMatrixDisplay at 0x11fa0e3a0>"
      ]
     },
     "execution_count": 9,
     "metadata": {},
     "output_type": "execute_result"
    },
    {
     "data": {
      "image/png": "[encoded data removed]",
      "text/plain": [
       "<Figure size 432x288 with 2 Axes>"
      ]
     },
     "metadata": {
      "needs_background": "light"
     },
     "output_type": "display_data"
    }
   ],
   "source": [
    "# sb.heatmap(df, annot=True)\n",
    "plot_confusion_matrix(\n",
    "    model, x.reshape(-1, 1), y\n",
    ")"
   ]
  },
  {
   "cell_type": "markdown",
   "metadata": {},
   "source": [
    "### EVALUATION METRICS FROM CONFUSION MATRIX \n",
    "\n",
    "- __True__ : y prediksi = y aktual\n",
    "- __False__ : y prediksi != y aktual\n",
    "- __Positive__ : model y prediksi = 1\n",
    "- __Negative__ : model y prediksi = 0 "
   ]
  },
  {
   "cell_type": "markdown",
   "metadata": {},
   "source": [
    "- __True Positive (TP)__: yp = 1 dan y = 1\n",
    "- __True Negative (TN)__: y = 0 dan yp = 0\n",
    "- __False Positive (FP)__: y = 0 dan yp = 1\n",
    "- __False Negative (FN)__: y = 1 dan yp = 0"
   ]
  },
  {
   "cell_type": "code",
   "execution_count": 10,
   "metadata": {},
   "outputs": [
    {
     "data": {
      "text/html": [
       "<div>\n",
       "<style scoped>\n",
       "    .dataframe tbody tr th:only-of-type {\n",
       "        vertical-align: middle;\n",
       "    }\n",
       "\n",
       "    .dataframe tbody tr th {\n",
       "        vertical-align: top;\n",
       "    }\n",
       "\n",
       "    .dataframe thead th {\n",
       "        text-align: right;\n",
       "    }\n",
       "</style>\n",
       "<table border=\"1\" class=\"dataframe\">\n",
       "  <thead>\n",
       "    <tr style=\"text-align: right;\">\n",
       "      <th></th>\n",
       "      <th>Prediksi 0</th>\n",
       "      <th>Prediksi 1</th>\n",
       "    </tr>\n",
       "  </thead>\n",
       "  <tbody>\n",
       "    <tr>\n",
       "      <th>Act 0</th>\n",
       "      <td>5</td>\n",
       "      <td>1</td>\n",
       "    </tr>\n",
       "    <tr>\n",
       "      <th>Act 1</th>\n",
       "      <td>1</td>\n",
       "      <td>3</td>\n",
       "    </tr>\n",
       "  </tbody>\n",
       "</table>\n",
       "</div>"
      ],
      "text/plain": [
       "       Prediksi 0  Prediksi 1\n",
       "Act 0           5           1\n",
       "Act 1           1           3"
      ]
     },
     "execution_count": 10,
     "metadata": {},
     "output_type": "execute_result"
    }
   ],
   "source": [
    "df\n",
    "\n",
    "#tp = 3; tn = 5; fp = 1; fn = 1"
   ]
  },
  {
   "cell_type": "code",
   "execution_count": 11,
   "metadata": {},
   "outputs": [
    {
     "data": {
      "text/plain": [
       "(5, 1, 1, 3)"
      ]
     },
     "execution_count": 11,
     "metadata": {},
     "output_type": "execute_result"
    }
   ],
   "source": [
    "#metode sklearn conf matrix ravel \n",
    "\n",
    "tn, fp, fn, tp = confusion_matrix(y, yp).ravel()\n",
    "tn, fp, fn, tp"
   ]
  },
  {
   "cell_type": "markdown",
   "metadata": {},
   "source": [
    "1. __Accuracy__ : Seberapa sering model kita memprediksi dengan benar? \n",
    "\n",
    "                 ➡️ (tp + tn)/ total data \n",
    "                  = (3 + 5)/ 10 = 0.8 = 80%"
   ]
  },
  {
   "cell_type": "code",
   "execution_count": 12,
   "metadata": {},
   "outputs": [
    {
     "name": "stdout",
     "output_type": "stream",
     "text": [
      "Akurasi 80.0 %\n"
     ]
    }
   ],
   "source": [
    "print('Akurasi', ((tp+tn)/len(y)) * 100, '%')"
   ]
  },
  {
   "cell_type": "markdown",
   "metadata": {},
   "source": [
    "2. __Inaccuracy/ Error Rate/ Missclassification Rate__\n",
    "   : Seberapa sering model kita salah\n",
    "   \n",
    "          ➡️  (fp+fn)/ totaldata\n",
    "               =(1+1)/8 = 20%\n",
    "               atau\n",
    "               = 1 - Accuracy = 20%"
   ]
  },
  {
   "cell_type": "code",
   "execution_count": 13,
   "metadata": {},
   "outputs": [
    {
     "name": "stdout",
     "output_type": "stream",
     "text": [
      "Error Rate 20.0 %\n"
     ]
    }
   ],
   "source": [
    "print('Error Rate', ((fp+fn)/len(y)) * 100, '%')"
   ]
  },
  {
   "cell_type": "markdown",
   "metadata": {},
   "source": [
    "3. __TP Rate/ Sensitivity/ Recall (positif)__ : kalau y aktual = 1, seberapa sering model prediksi yp = 1?\n",
    "\n",
    "    ➡️  tp/total_actual_1 = 3/4 = 0.75 = 75%\n",
    "    \n",
    "        #total actual 1 = total y aktual yang memiliki nilai 1 "
   ]
  },
  {
   "cell_type": "markdown",
   "metadata": {},
   "source": [
    "4. __FP Rate__ : kalau y aktual = 0, seberapa sering model prediksi yp = 1?\n",
    "     \n",
    "      ➡️ fp/total_actual_0 = 1/6 = 0.16 \n",
    "    \n",
    "         #total actual 0 = total y aktual yang memiliki nilai 0 "
   ]
  },
  {
   "cell_type": "markdown",
   "metadata": {},
   "source": [
    "5. __TN Rate/ Specificity/ Selectifity/ Recall (negatif)__ : >< FP Rate = Kalau y aktual = 0, seberapa sering yp = 0\n",
    "\n",
    "     ➡️ tn/total_actual_0 = 5/6 = 0.83 = 83%\n",
    "    \n",
    "        atau\n",
    "    \n",
    "        1 - FP Rate = 1 - 0.167 = 0.83 = 83%"
   ]
  },
  {
   "cell_type": "markdown",
   "metadata": {},
   "source": [
    "6. __FN Rate__= >< TP Rate : kalau y aktual = 1, seberapa sering model prediksi yp = 0\n",
    "\n",
    "   ➡️ fn/total_actual_1 = 1/4 = 0.25 = 25%\n",
    "   \n",
    "   atau\n",
    "   \n",
    "   1 - TP Rate = 1 - 0.75 = 0.25 = 25%"
   ]
  },
  {
   "cell_type": "markdown",
   "metadata": {},
   "source": [
    "7. __Precision(+)__: kalau yp = 1, seberapa sering benar?\n",
    "precision(-) = kalau yp = 0 seberapa sering benar? \n",
    "\n",
    "    ➡️ tp/ total_predict_1 \n",
    "    atau\n",
    "    tp/ (tp+fp) \n",
    "    \n",
    "    = 3/4 = 75%"
   ]
  },
  {
   "cell_type": "markdown",
   "metadata": {},
   "source": [
    "8. __Prevalance__: seberapa banyak actual 1?\n",
    "\n",
    "   ➡️ total_actual_1/totaldata = 4/10 = 40%\n",
    "   \n",
    "   (tp + fn)/ totaldata = (3+1)/10 = 40%"
   ]
  },
  {
   "cell_type": "markdown",
   "metadata": {},
   "source": [
    "9. __Null Error Rate__: seberapa banyak aktual = 0\n",
    "\n",
    "    ➡️ 1 - Prevalence = 1 - 0.4 = 0.6 = 60%\n",
    "    \n",
    "    (fp + tn)/totaldata = (5+1)/10 = 0.6 = 60%"
   ]
  },
  {
   "cell_type": "markdown",
   "metadata": {},
   "source": [
    "10. __F1 Score__: rata rata harmoni precision(+) dan recall (+)\n",
    "\n",
    "    ➡️ 2 * ((presicionP * recallP) / (presicionP + recallP)\n",
    "    \n",
    "       = 2 * ((0.75 * 0.75) / (0.75 + 0.75)\n",
    "       \n",
    "       = 2 * ( 0.5625 / 1.5 )\n",
    "       \n",
    "       = 2 * 0.375 = 0.75 = 75%\n",
    "       \n",
    "       "
   ]
  },
  {
   "cell_type": "markdown",
   "metadata": {},
   "source": [
    "11. __Balanced Accuracy__\n",
    "\n",
    "   ➡️ (recallP + recallN)/ 2\n",
    "    \n",
    "     = (0.75 + 0.83)/2 \n",
    "     \n",
    "     = 1.58/2\n",
    "     \n",
    "     = 0.79"
   ]
  },
  {
   "cell_type": "markdown",
   "metadata": {},
   "source": [
    "<hr>"
   ]
  },
  {
   "cell_type": "code",
   "execution_count": 14,
   "metadata": {},
   "outputs": [
    {
     "name": "stdout",
     "output_type": "stream",
     "text": [
      "Akurasi:  0.8\n",
      "Error Rate:  0.2\n",
      "TPr / Recall(+):  0.75\n",
      "FP Rate:  0.16666666666666666\n",
      "TNr / Recall(-):  0.8333333333333334\n",
      "FN Rate:  0.25\n",
      "Precision(+):  0.75\n",
      "Precision(-):  0.8333333333333334\n",
      "Prevalence:  0.4\n",
      "Null Error Rate:  0.6\n",
      "F1 Score:  0.75\n",
      "Balanced Accuracy:  0.7916666666666667\n"
     ]
    }
   ],
   "source": [
    "print('Akurasi: ', (tp+tn)/len(y))\n",
    "print('Error Rate: ', (fp+fn)/len(y))\n",
    "print('TPr / Recall(+): ', tp / (tp + fn))\n",
    "print('FP Rate: ', fp / (fp + tn))\n",
    "print('TNr / Recall(-): ', tn / (fp + tn))\n",
    "print('FN Rate: ', fn / (tp + fn))\n",
    "print('Precision(+): ', tp / (tp + fp))\n",
    "print('Precision(-): ', tn/ (tn+fn))\n",
    "print('Prevalence: ', (tp + fn)/ len(y))\n",
    "print('Null Error Rate: ', (fp + tn)/ len(y))\n",
    "print('F1 Score: ', 2 * (((tp/(tp+fp)) * (tp/ (tp+fn))) / ((tp/(tp+fp)) + (tp / (tp + fn)))))\n",
    "print('Balanced Accuracy: ', ((tp / (tp + fn)) + (tn / (fp + tn)))/2)"
   ]
  },
  {
   "cell_type": "code",
   "execution_count": null,
   "metadata": {},
   "outputs": [],
   "source": []
  }
 ],
 "metadata": {
  "kernelspec": {
   "display_name": "Python 3",
   "language": "python",
   "name": "python3"
  },
  "language_info": {
   "codemirror_mode": {
    "name": "ipython",
    "version": 3
   },
   "file_extension": ".py",
   "mimetype": "text/x-python",
   "name": "python",
   "nbconvert_exporter": "python",
   "pygments_lexer": "ipython3",
   "version": "3.8.0"
  }
 },
 "nbformat": 4,
 "nbformat_minor": 4
}
